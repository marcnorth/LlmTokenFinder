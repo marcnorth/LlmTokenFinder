{
 "cells": [
  {
   "metadata": {},
   "cell_type": "markdown",
   "source": "This example finds attention heads that move information to the referent to the word 'it'.",
   "id": "1d537a25fa3aa3eb"
  },
  {
   "metadata": {},
   "cell_type": "markdown",
   "source": "## Setup",
   "id": "7c559bbc42ac6698"
  },
  {
   "metadata": {
    "ExecuteTime": {
     "end_time": "2025-05-12T19:00:00.916413Z",
     "start_time": "2025-05-12T18:59:43.487264Z"
    }
   },
   "cell_type": "code",
   "source": [
    "from transformer_lens import HookedTransformer\n",
    "\n",
    "\n",
    "llm = HookedTransformer.from_pretrained(\"EleutherAI/pythia-2.8b-deduped-v0\")"
   ],
   "id": "68280d02917badb2",
   "outputs": [
    {
     "name": "stderr",
     "output_type": "stream",
     "text": [
      "C:\\Users\\UKGC\\PycharmProjects\\TokenFinder\\.venv\\Lib\\site-packages\\tqdm\\auto.py:21: TqdmWarning: IProgress not found. Please update jupyter and ipywidgets. See https://ipywidgets.readthedocs.io/en/stable/user_install.html\n",
      "  from .autonotebook import tqdm as notebook_tqdm\n"
     ]
    },
    {
     "name": "stdout",
     "output_type": "stream",
     "text": [
      "Loaded pretrained model EleutherAI/pythia-2.8b-deduped-v0 into HookedTransformer\n"
     ]
    }
   ],
   "execution_count": 1
  },
  {
   "metadata": {
    "ExecuteTime": {
     "end_time": "2025-05-12T19:04:05.855181Z",
     "start_time": "2025-05-12T19:04:05.851772Z"
    }
   },
   "cell_type": "code",
   "source": [
    "text = \"I went to the store and bought some milk, but I forgot to bring it home.\"\n",
    "\n",
    "input_tokens = llm.tokenizer.tokenize(text, add_special_tokens=True)\n",
    "input_token_ids = llm.tokenizer.encode(text, add_special_tokens=True, return_tensors=\"pt\")\n",
    "\n",
    "print(input_tokens)\n",
    "print(input_token_ids)"
   ],
   "id": "d17ffa61b685065a",
   "outputs": [
    {
     "name": "stdout",
     "output_type": "stream",
     "text": [
      "['<|endoftext|>', 'I', 'Ġwent', 'Ġto', 'Ġthe', 'Ġstore', 'Ġand', 'Ġbought', 'Ġsome', 'Ġmilk', ',', 'Ġbut', 'ĠI', 'Ġforgot', 'Ġto', 'Ġbring', 'Ġit', 'Ġhome', '.']\n",
      "tensor([[    0,    42,  2427,   281,   253,  4657,   285,  8686,   690,  8463,\n",
      "            13,   533,   309, 18298,   281,  3324,   352,  1728,    15]])\n"
     ]
    }
   ],
   "execution_count": 16
  },
  {
   "metadata": {
    "ExecuteTime": {
     "end_time": "2025-05-12T19:04:07.646469Z",
     "start_time": "2025-05-12T19:04:06.450954Z"
    }
   },
   "cell_type": "code",
   "source": "_, activation_cache = llm.run_with_cache(input_token_ids)",
   "id": "9cd6b05488fa31a1",
   "outputs": [],
   "execution_count": 17
  },
  {
   "metadata": {},
   "cell_type": "markdown",
   "source": "## Find relevant tokens",
   "id": "b6c55287ea795aff"
  },
  {
   "metadata": {
    "ExecuteTime": {
     "end_time": "2025-05-12T19:04:16.681980Z",
     "start_time": "2025-05-12T19:04:16.679166Z"
    }
   },
   "cell_type": "code",
   "source": [
    "from llm_token_finder import TokenFinder, ActivationAnalyzer\n",
    "\n",
    "\n",
    "token_finder = TokenFinder.create_from_tokenizer(text, llm.tokenizer)\n",
    "activation_analyzer = ActivationAnalyzer.create_from_tokenizer(llm.tokenizer, input_tokens, activation_cache)"
   ],
   "id": "5003a0525eb8944f",
   "outputs": [
    {
     "name": "stderr",
     "output_type": "stream",
     "text": [
      "WARNING:root:Tried removing batch dimension after already having removed it.\n"
     ]
    }
   ],
   "execution_count": 19
  },
  {
   "metadata": {
    "ExecuteTime": {
     "end_time": "2025-05-12T19:04:17.565838Z",
     "start_time": "2025-05-12T19:04:17.563173Z"
    }
   },
   "cell_type": "code",
   "source": [
    "store = token_finder.find_first(\"store\", allow_space_prefix=True)\n",
    "milk = token_finder.find_first(\"milk\", allow_space_prefix=True)\n",
    "it = token_finder.find_first(\"it\", allow_space_prefix=True)\n",
    "\n",
    "print(f\"Store token: {store}\")\n",
    "print(f\"Milk token: {milk}\")\n",
    "print(f\"It token: {it}\")"
   ],
   "id": "7cd61aa2652bd34b",
   "outputs": [
    {
     "name": "stdout",
     "output_type": "stream",
     "text": [
      "Store token: Token(index=5, value='Ġstore')\n",
      "Milk token: Token(index=9, value='Ġmilk')\n",
      "It token: Token(index=16, value='Ġit')\n"
     ]
    }
   ],
   "execution_count": 20
  },
  {
   "metadata": {},
   "cell_type": "markdown",
   "source": "### Find heads that move information from 'milk' to 'it'",
   "id": "796c5a4ffb7c5a06"
  },
  {
   "metadata": {
    "ExecuteTime": {
     "end_time": "2025-05-12T19:04:18.588802Z",
     "start_time": "2025-05-12T19:04:18.579803Z"
    }
   },
   "cell_type": "code",
   "source": [
    "matching_heads = activation_analyzer.find_heads_where_query_looks_at_value(it, milk)\n",
    "\n",
    "print(f\"Found {len(matching_heads)} heads that move information from 'milk' to 'it':\")"
   ],
   "id": "7cdacdaf010feea0",
   "outputs": [
    {
     "name": "stdout",
     "output_type": "stream",
     "text": [
      "Found 21 heads that move information from 'milk' to 'it':\n"
     ]
    }
   ],
   "execution_count": 21
  },
  {
   "metadata": {},
   "cell_type": "markdown",
   "source": "## Visualise",
   "id": "ce93680507673c67"
  },
  {
   "metadata": {
    "ExecuteTime": {
     "end_time": "2025-05-12T19:04:20.591980Z",
     "start_time": "2025-05-12T19:04:20.589319Z"
    }
   },
   "cell_type": "code",
   "source": [
    "from llm_token_finder import TokenDisplayer\n",
    "\n",
    "\n",
    "token_displayer = TokenDisplayer.create_for_tokenizer(llm.tokenizer)"
   ],
   "id": "64f8fcb7059ef2d8",
   "outputs": [],
   "execution_count": 22
  },
  {
   "metadata": {
    "ExecuteTime": {
     "end_time": "2025-05-12T19:04:44.601235Z",
     "start_time": "2025-05-12T19:04:44.491454Z"
    }
   },
   "cell_type": "code",
   "source": [
    "print(f\"Head {matching_heads[0]}:\")\n",
    "\n",
    "token_displayer.html_for_token_attention(\n",
    "    input_tokens,\n",
    "    activation_cache,\n",
    "    matching_heads[0],\n",
    ")"
   ],
   "id": "9e41b38fcc171b1c",
   "outputs": [
    {
     "name": "stdout",
     "output_type": "stream",
     "text": [
      "Head 4.4:\n"
     ]
    },
    {
     "data": {
      "text/plain": [
       "<circuitsvis.utils.render.RenderedHTML at 0x2981f697dd0>"
      ],
      "text/html": [
       "<div id=\"circuits-vis-b9a61265-6aea\" style=\"margin: 15px 0;\"/>\n",
       "    <script crossorigin type=\"module\">\n",
       "    import { render, ColoredTokensMulti } from \"https://unpkg.com/circuitsvis@1.43.3/dist/cdn/esm.js\";\n",
       "    render(\n",
       "      \"circuits-vis-b9a61265-6aea\",\n",
       "      ColoredTokensMulti,\n",
       "      {\"tokens\": [\"<|endoftext|>\", \"I\", \" went\", \" to\", \" the\", \" store\", \" and\", \" bought\", \" some\", \" milk\", \",\", \" but\", \" I\", \" forgot\", \" to\", \" bring\", \" it\", \" home\", \".\"], \"values\": [[1.0, 0.9857660531997681, 0.8920871615409851, 0.8236007690429688, 0.7443596124649048, 0.7320175170898438, 0.6996479630470276, 0.5042651891708374, 0.6475743651390076, 0.5574581027030945, 0.6164478659629822, 0.8033315539360046, 0.7717306017875671, 0.42541617155075073, 0.7268712520599365, 0.5064512491226196, 0.3252323269844055, 0.31501805782318115, 0.04124258831143379], [0.0, 0.014233894646167755, 0.06575527042150497, 0.049936920404434204, 0.05758898705244064, 0.06506317853927612, 0.03240368887782097, 0.027187926694750786, 0.06097332015633583, 0.049689844250679016, 0.032148826867341995, 0.017232254147529602, 0.04283033683896065, 0.022611986845731735, 0.01697470247745514, 0.035587161779403687, 0.012152562849223614, 0.0251897182315588, 0.0012224111706018448], [0.0, 0.0, 0.04215751215815544, 0.09974414855241776, 0.09510991722345352, 0.054783083498477936, 0.029665686190128326, 0.03541422635316849, 0.05196499451994896, 0.07825522124767303, 0.02381409890949726, 0.02269899658858776, 0.02671416662633419, 0.06533463299274445, 0.04158564284443855, 0.08960592746734619, 0.03530513867735863, 0.05126382037997246, 0.0008290686528198421], [0.0, 0.0, 0.0, 0.026718182489275932, 0.04336414113640785, 0.022094344720244408, 0.024181222543120384, 0.014081607572734356, 0.013119479641318321, 0.013422506861388683, 0.011835165321826935, 0.013252935372292995, 0.01042031031101942, 0.039445843547582626, 0.01768750138580799, 0.015257236547768116, 0.005043059587478638, 0.009029384702444077, 0.0004986590356566012], [0.0, 0.0, 0.0, 0.0, 0.059577349573373795, 0.020040158182382584, 0.01573694497346878, 0.05384362116456032, 0.0071784029714763165, 0.007774381432682276, 0.004459351766854525, 0.004370937589555979, 0.0023184306919574738, 0.01379256322979927, 0.005526863504201174, 0.0041717467829585075, 0.005264778155833483, 0.0016434978460893035, 0.0004283633315935731], [0.0, 0.0, 0.0, 0.0, 0.0, 0.10600171238183975, 0.18930698931217194, 0.26161831617355347, 0.0765790119767189, 0.03135180100798607, 0.03445442020893097, 0.02568471059203148, 0.03051028959453106, 0.07190879434347153, 0.022996485233306885, 0.05633663386106491, 0.0387565903365612, 0.06281965970993042, 0.0012231784639880061], [0.0, 0.0, 0.0, 0.0, 0.0, 0.0, 0.00905745942145586, 0.006163326092064381, 0.018913928419351578, 0.00892228540033102, 0.0090631153434515, 0.004748813342303038, 0.008261138573288918, 0.007856950163841248, 0.007194368168711662, 0.010167772881686687, 0.006016602739691734, 0.009645693935453892, 0.0009000060381367803], [0.0, 0.0, 0.0, 0.0, 0.0, 0.0, 0.0, 0.09742575138807297, 0.0557669959962368, 0.017578059807419777, 0.029442721977829933, 0.034576479345560074, 0.025620630010962486, 0.18113479018211365, 0.03546135500073433, 0.03798538073897362, 0.04343591257929802, 0.04796743392944336, 0.0005978768458589911], [0.0, 0.0, 0.0, 0.0, 0.0, 0.0, 0.0, 0.0, 0.0679294764995575, 0.028808020055294037, 0.016633501276373863, 0.012993515469133854, 0.013532865792512894, 0.02739599719643593, 0.031580690294504166, 0.030434027314186096, 0.04455707222223282, 0.0278769601136446, 0.0007879547774791718], [0.0, 0.0, 0.0, 0.0, 0.0, 0.0, 0.0, 0.0, 0.0, 0.20673982799053192, 0.2135363221168518, 0.05568525567650795, 0.016359323635697365, 0.019355086609721184, 0.010321085341274738, 0.062096189707517624, 0.3452734053134918, 0.282368928194046, 0.0012338387314230204], [0.0, 0.0, 0.0, 0.0, 0.0, 0.0, 0.0, 0.0, 0.0, 0.0, 0.008164547383785248, 0.002263226779177785, 0.006185999605804682, 0.006786451209336519, 0.004418609198182821, 0.011976135894656181, 0.0192014928907156, 0.004872466437518597, 0.0004694588715210557], [0.0, 0.0, 0.0, 0.0, 0.0, 0.0, 0.0, 0.0, 0.0, 0.0, 0.0, 0.0031612864695489407, 0.010541694238781929, 0.004422385711222887, 0.005109405145049095, 0.00490474421530962, 0.005420466419309378, 0.008675290271639824, 0.0010684274602681398], [0.0, 0.0, 0.0, 0.0, 0.0, 0.0, 0.0, 0.0, 0.0, 0.0, 0.0, 0.0, 0.03497432544827461, 0.013257181271910667, 0.009455889463424683, 0.01237478107213974, 0.0016615210333839059, 0.006474800407886505, 0.0004691053181886673], [0.0, 0.0, 0.0, 0.0, 0.0, 0.0, 0.0, 0.0, 0.0, 0.0, 0.0, 0.0, 0.0, 0.1012810543179512, 0.04567374661564827, 0.01835751160979271, 0.004546963609755039, 0.018557492643594742, 0.0008599759894423187], [0.0, 0.0, 0.0, 0.0, 0.0, 0.0, 0.0, 0.0, 0.0, 0.0, 0.0, 0.0, 0.0, 0.0, 0.019142379984259605, 0.00253408495336771, 0.0027367006987333298, 0.0026667816564440727, 0.0002191453386330977], [0.0, 0.0, 0.0, 0.0, 0.0, 0.0, 0.0, 0.0, 0.0, 0.0, 0.0, 0.0, 0.0, 0.0, 0.0, 0.10175947099924088, 0.07466993480920792, 0.036198318004608154, 0.0005126617616042495], [0.0, 0.0, 0.0, 0.0, 0.0, 0.0, 0.0, 0.0, 0.0, 0.0, 0.0, 0.0, 0.0, 0.0, 0.0, 0.0, 0.030725326389074326, 0.007474006153643131, 0.0004064397653564811], [0.0, 0.0, 0.0, 0.0, 0.0, 0.0, 0.0, 0.0, 0.0, 0.0, 0.0, 0.0, 0.0, 0.0, 0.0, 0.0, 0.0, 0.08225764334201813, 0.00033266833634115756], [0.0, 0.0, 0.0, 0.0, 0.0, 0.0, 0.0, 0.0, 0.0, 0.0, 0.0, 0.0, 0.0, 0.0, 0.0, 0.0, 0.0, 0.0, 0.946698009967804]], \"labels\": [\"<|endoftext|>\", \"I\", \" went\", \" to\", \" the\", \" store\", \" and\", \" bought\", \" some\", \" milk\", \",\", \" but\", \" I\", \" forgot\", \" to\", \" bring\", \" it\", \" home\", \".\"]}\n",
       "    )\n",
       "    </script>"
      ]
     },
     "execution_count": 24,
     "metadata": {},
     "output_type": "execute_result"
    }
   ],
   "execution_count": 24
  }
 ],
 "metadata": {
  "kernelspec": {
   "display_name": "Python 3",
   "language": "python",
   "name": "python3"
  },
  "language_info": {
   "codemirror_mode": {
    "name": "ipython",
    "version": 2
   },
   "file_extension": ".py",
   "mimetype": "text/x-python",
   "name": "python",
   "nbconvert_exporter": "python",
   "pygments_lexer": "ipython2",
   "version": "2.7.6"
  }
 },
 "nbformat": 4,
 "nbformat_minor": 5
}
