{
 "cells": [
  {
   "metadata": {},
   "cell_type": "markdown",
   "source": "This example finds attention heads that move information to the referent to the word 'it'.",
   "id": "1d537a25fa3aa3eb"
  },
  {
   "metadata": {},
   "cell_type": "markdown",
   "source": "## Setup",
   "id": "7c559bbc42ac6698"
  },
  {
   "metadata": {
    "ExecuteTime": {
     "end_time": "2025-05-12T19:00:00.916413Z",
     "start_time": "2025-05-12T18:59:43.487264Z"
    }
   },
   "cell_type": "code",
   "source": [
    "from transformer_lens import HookedTransformer\n",
    "\n",
    "\n",
    "llm = HookedTransformer.from_pretrained(\"EleutherAI/pythia-2.8b-deduped-v0\")"
   ],
   "id": "68280d02917badb2",
   "outputs": [
    {
     "name": "stderr",
     "output_type": "stream",
     "text": [
      "C:\\Users\\UKGC\\PycharmProjects\\TokenFinder\\.venv\\Lib\\site-packages\\tqdm\\auto.py:21: TqdmWarning: IProgress not found. Please update jupyter and ipywidgets. See https://ipywidgets.readthedocs.io/en/stable/user_install.html\n",
      "  from .autonotebook import tqdm as notebook_tqdm\n"
     ]
    },
    {
     "name": "stdout",
     "output_type": "stream",
     "text": [
      "Loaded pretrained model EleutherAI/pythia-2.8b-deduped-v0 into HookedTransformer\n"
     ]
    }
   ],
   "execution_count": 1
  },
  {
   "metadata": {
    "ExecuteTime": {
     "end_time": "2025-05-12T19:04:05.855181Z",
     "start_time": "2025-05-12T19:04:05.851772Z"
    }
   },
   "cell_type": "code",
   "source": [
    "text = \"I went to the store and bought some milk, but I forgot to bring it home.\"\n",
    "\n",
    "input_tokens = llm.tokenizer.tokenize(text, add_special_tokens=True)\n",
    "input_token_ids = llm.tokenizer.encode(text, add_special_tokens=True, return_tensors=\"pt\")\n",
    "\n",
    "print(input_tokens)\n",
    "print(input_token_ids)"
   ],
   "id": "d17ffa61b685065a",
   "outputs": [
    {
     "name": "stdout",
     "output_type": "stream",
     "text": [
      "['<|endoftext|>', 'I', 'Ġwent', 'Ġto', 'Ġthe', 'Ġstore', 'Ġand', 'Ġbought', 'Ġsome', 'Ġmilk', ',', 'Ġbut', 'ĠI', 'Ġforgot', 'Ġto', 'Ġbring', 'Ġit', 'Ġhome', '.']\n",
      "tensor([[    0,    42,  2427,   281,   253,  4657,   285,  8686,   690,  8463,\n",
      "            13,   533,   309, 18298,   281,  3324,   352,  1728,    15]])\n"
     ]
    }
   ],
   "execution_count": 16
  },
  {
   "metadata": {
    "ExecuteTime": {
     "end_time": "2025-05-12T19:04:07.646469Z",
     "start_time": "2025-05-12T19:04:06.450954Z"
    }
   },
   "cell_type": "code",
   "source": "_, activation_cache = llm.run_with_cache(input_token_ids)",
   "id": "9cd6b05488fa31a1",
   "outputs": [],
   "execution_count": 17
  },
  {
   "metadata": {},
   "cell_type": "markdown",
   "source": "## Find relevant tokens",
   "id": "b6c55287ea795aff"
  },
  {
   "metadata": {},
   "cell_type": "code",
   "outputs": [],
   "execution_count": null,
   "source": [
    "from llm_inspect import TokenFinder, AttentionHeadFinder\n",
    "\n",
    "\n",
    "token_finder = TokenFinder.create_from_tokenizer(text, llm.tokenizer)\n",
    "activation_analyzer = AttentionHeadFinder.create_from_tokenizer(llm.tokenizer, input_tokens, activation_cache)"
   ],
   "id": "b080428abbc39a52"
  },
  {
   "metadata": {},
   "cell_type": "code",
   "outputs": [],
   "execution_count": null,
   "source": [
    "store = token_finder.find_first(\"store\", allow_space_prefix=True)\n",
    "milk = token_finder.find_first(\"milk\", allow_space_prefix=True)\n",
    "it = token_finder.find_first(\"it\", allow_space_prefix=True)\n",
    "\n",
    "print(f\"Store token: {store}\")\n",
    "print(f\"Milk token: {milk}\")\n",
    "print(f\"It token: {it}\")"
   ],
   "id": "8195f1100108f4a5"
  },
  {
   "metadata": {},
   "cell_type": "markdown",
   "source": "### Find heads that move information from 'milk' to 'it'",
   "id": "796c5a4ffb7c5a06"
  },
  {
   "metadata": {
    "ExecuteTime": {
     "end_time": "2025-05-12T19:04:18.588802Z",
     "start_time": "2025-05-12T19:04:18.579803Z"
    }
   },
   "cell_type": "code",
   "source": [
    "matching_heads = activation_analyzer.find_heads_where_query_looks_at_value(it, milk)\n",
    "\n",
    "print(f\"Found {len(matching_heads)} heads that move information from 'milk' to 'it':\")"
   ],
   "id": "7cdacdaf010feea0",
   "outputs": [
    {
     "name": "stdout",
     "output_type": "stream",
     "text": [
      "Found 21 heads that move information from 'milk' to 'it':\n"
     ]
    }
   ],
   "execution_count": 21
  },
  {
   "metadata": {},
   "cell_type": "markdown",
   "source": "## Visualise",
   "id": "ce93680507673c67"
  },
  {
   "metadata": {},
   "cell_type": "code",
   "outputs": [],
   "execution_count": null,
   "source": [
    "from llm_inspect import TokenDisplayer\n",
    "\n",
    "\n",
    "token_displayer = TokenDisplayer.create_for_tokenizer(llm.tokenizer)"
   ],
   "id": "d06e836f9a716698"
  },
  {
   "metadata": {},
   "cell_type": "code",
   "outputs": [],
   "execution_count": null,
   "source": [
    "print(f\"Head {matching_heads[0]}:\")\n",
    "\n",
    "token_displayer.html_for_token_attention(\n",
    "    input_tokens,\n",
    "    activation_cache,\n",
    "    matching_heads[0],\n",
    ")"
   ],
   "id": "f98ab36a8f8bd5db"
  }
 ],
 "metadata": {
  "kernelspec": {
   "display_name": "Python 3",
   "language": "python",
   "name": "python3"
  },
  "language_info": {
   "codemirror_mode": {
    "name": "ipython",
    "version": 2
   },
   "file_extension": ".py",
   "mimetype": "text/x-python",
   "name": "python",
   "nbconvert_exporter": "python",
   "pygments_lexer": "ipython2",
   "version": "2.7.6"
  }
 },
 "nbformat": 4,
 "nbformat_minor": 5
}
