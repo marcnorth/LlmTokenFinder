{
 "cells": [
  {
   "metadata": {},
   "cell_type": "markdown",
   "source": "The token display functions use circuitsvis functions",
   "id": "98163e837bb0a875"
  },
  {
   "metadata": {
    "ExecuteTime": {
     "end_time": "2025-05-21T19:03:52.048196Z",
     "start_time": "2025-05-21T19:03:50.202914Z"
    }
   },
   "cell_type": "code",
   "source": [
    "import circuitsvis\n",
    "from llm_token_finder import TokenDisplayer, TokenFinder, Scope"
   ],
   "id": "327fd431af49475c",
   "outputs": [],
   "execution_count": 8
  },
  {
   "metadata": {
    "ExecuteTime": {
     "end_time": "2025-05-21T19:03:11.125250Z",
     "start_time": "2025-05-21T19:03:09.239301Z"
    }
   },
   "cell_type": "code",
   "source": [
    "from transformers import AutoTokenizer\n",
    "\n",
    "tokenizer = AutoTokenizer.from_pretrained(\"gpt2\")"
   ],
   "id": "c9db9f475bd602c7",
   "outputs": [
    {
     "name": "stderr",
     "output_type": "stream",
     "text": [
      "C:\\Users\\UKGC\\PycharmProjects\\TokenFinder\\.venv\\Lib\\site-packages\\tqdm\\auto.py:21: TqdmWarning: IProgress not found. Please update jupyter and ipywidgets. See https://ipywidgets.readthedocs.io/en/stable/user_install.html\n",
      "  from .autonotebook import tqdm as notebook_tqdm\n"
     ]
    }
   ],
   "execution_count": 1
  },
  {
   "metadata": {
    "ExecuteTime": {
     "end_time": "2025-05-21T19:03:20.928687Z",
     "start_time": "2025-05-21T19:03:20.925662Z"
    }
   },
   "cell_type": "code",
   "source": [
    "text = \"\"\"The quick brown fox jumps over the lazy dog.\n",
    "Also, there are 3.14 apples in the basket.\"\"\"\n",
    "\n",
    "tokens = tokenizer.tokenize(text)\n",
    "\n",
    "print(tokens)"
   ],
   "id": "734d26d6c3b638dc",
   "outputs": [
    {
     "name": "stdout",
     "output_type": "stream",
     "text": [
      "['The', 'Ġquick', 'Ġbrown', 'Ġfox', 'Ġjumps', 'Ġover', 'Ġthe', 'Ġlazy', 'Ġdog', '.', 'Ċ', 'Also', ',', 'Ġthere', 'Ġare', 'Ġ3', '.', '14', 'Ġapples', 'Ġin', 'Ġthe', 'Ġbasket', '.']\n"
     ]
    }
   ],
   "execution_count": 4
  },
  {
   "metadata": {
    "ExecuteTime": {
     "end_time": "2025-05-21T19:03:21.386477Z",
     "start_time": "2025-05-21T19:03:21.375349Z"
    }
   },
   "cell_type": "code",
   "source": [
    "import torch\n",
    "values = torch.rand(len(tokens))"
   ],
   "id": "f6b2b0b22249eb8",
   "outputs": [],
   "execution_count": 5
  },
  {
   "metadata": {},
   "cell_type": "markdown",
   "source": "# Circuitsvis default visualization",
   "id": "55f1b27d76cb82e8"
  },
  {
   "metadata": {
    "ExecuteTime": {
     "end_time": "2025-05-21T19:03:34.757487Z",
     "start_time": "2025-05-21T19:03:34.586695Z"
    }
   },
   "cell_type": "code",
   "source": [
    "print(\"Default circuitsvis visualization:\")\n",
    "circuitsvis.tokens.colored_tokens(tokens, values)"
   ],
   "id": "f44e049f8e5efb94",
   "outputs": [
    {
     "name": "stdout",
     "output_type": "stream",
     "text": [
      "Default circuitsvis visualization:\n"
     ]
    },
    {
     "ename": "NameError",
     "evalue": "name 'circuitsvis' is not defined",
     "output_type": "error",
     "traceback": [
      "\u001B[31m---------------------------------------------------------------------------\u001B[39m",
      "\u001B[31mNameError\u001B[39m                                 Traceback (most recent call last)",
      "\u001B[36mCell\u001B[39m\u001B[36m \u001B[39m\u001B[32mIn[6]\u001B[39m\u001B[32m, line 2\u001B[39m\n\u001B[32m      1\u001B[39m \u001B[38;5;28mprint\u001B[39m(\u001B[33m\"\u001B[39m\u001B[33mDefault circuitsvis visualization:\u001B[39m\u001B[33m\"\u001B[39m)\n\u001B[32m----> \u001B[39m\u001B[32m2\u001B[39m \u001B[43mcircuitsvis\u001B[49m.tokens.colored_tokens(tokens, values)\n",
      "\u001B[31mNameError\u001B[39m: name 'circuitsvis' is not defined"
     ]
    }
   ],
   "execution_count": 6
  },
  {
   "metadata": {
    "ExecuteTime": {
     "end_time": "2025-05-11T14:50:04.438878Z",
     "start_time": "2025-05-11T14:50:04.312415Z"
    }
   },
   "cell_type": "code",
   "source": [
    "token_displayer = TokenDisplayer.create_for_tokenizer(tokenizer)\n",
    "\n",
    "print(\"Token displayer visualization:\")\n",
    "token_displayer.html_for_pretty_colored_tokens(tokens, values)"
   ],
   "id": "f45bf97e6c0b5a85",
   "outputs": [
    {
     "name": "stdout",
     "output_type": "stream",
     "text": [
      "Token displayer visualization:\n"
     ]
    },
    {
     "data": {
      "text/plain": [
       "<circuitsvis.utils.render.RenderedHTML at 0x134c9362ab0>"
      ],
      "text/html": [
       "<div id=\"circuits-vis-c2690b3b-b746\" style=\"margin: 15px 0;\"/>\n",
       "    <script crossorigin type=\"module\">\n",
       "    import { render, ColoredTokens } from \"https://unpkg.com/circuitsvis@1.43.3/dist/cdn/esm.js\";\n",
       "    render(\n",
       "      \"circuits-vis-c2690b3b-b746\",\n",
       "      ColoredTokens,\n",
       "      {\"tokens\": [\"The\", \" quick\", \" brown\", \" fox\", \" jumps\", \" over\", \" the\", \" lazy\", \" dog\", \".\", \"\\u21b5\\n\", \"Also\", \",\", \" there\", \" are\", \" 3\", \".\", \"14\", \" apples\", \" in\", \" the\", \" basket\", \".\"], \"values\": [0.4631521701812744, 0.1590246558189392, 0.6217449903488159, 0.36101555824279785, 0.3891165852546692, 0.6127871870994568, 0.1609629988670349, 0.46580970287323, 0.15721583366394043, 0.5449621081352234, 0.642228364944458, 0.3947085738182068, 0.5777845978736877, 0.13883769512176514, 0.21407312154769897, 0.5880962610244751, 0.845603346824646, 0.722564697265625, 0.5459322929382324, 0.776404857635498, 0.02082502841949463, 0.875538170337677, 0.5169985294342041]}\n",
       "    )\n",
       "    </script>"
      ]
     },
     "execution_count": 18,
     "metadata": {},
     "output_type": "execute_result"
    }
   ],
   "execution_count": 18
  },
  {
   "metadata": {},
   "cell_type": "markdown",
   "source": "# Display Token",
   "id": "7193085a54d3983d"
  },
  {
   "metadata": {
    "ExecuteTime": {
     "end_time": "2025-05-21T19:03:57.179146Z",
     "start_time": "2025-05-21T19:03:57.176269Z"
    }
   },
   "cell_type": "code",
   "source": [
    "text = \"\"\"The quick brown fox jumps over the lazy dog.\n",
    "Also, there are 3.14 apples in the basket.\"\"\"\n",
    "\n",
    "token_finder = TokenFinder.create_from_tokenizer(text, tokenizer)\n",
    "\n",
    "token = token_finder.find_first(\"fox\", allow_space_prefix=True)"
   ],
   "id": "e37757cd7a7fc339",
   "outputs": [],
   "execution_count": 11
  },
  {
   "metadata": {
    "ExecuteTime": {
     "end_time": "2025-05-21T19:03:57.982198Z",
     "start_time": "2025-05-21T19:03:57.816818Z"
    }
   },
   "cell_type": "code",
   "source": [
    "token_displayer = TokenDisplayer.create_for_tokenizer(tokenizer)\n",
    "\n",
    "token_displayer.html_for_token_with_context(token, context_len=2)"
   ],
   "id": "65528503562f21e3",
   "outputs": [
    {
     "data": {
      "text/plain": [
       "<circuitsvis.utils.render.RenderedHTML at 0x19316cd12e0>"
      ],
      "text/html": [
       "<div id=\"circuits-vis-f3d5eff5-0391\" style=\"margin: 15px 0;\"/>\n",
       "    <script crossorigin type=\"module\">\n",
       "    import { render, ColoredTokens } from \"https://unpkg.com/circuitsvis@1.43.3/dist/cdn/esm.js\";\n",
       "    render(\n",
       "      \"circuits-vis-f3d5eff5-0391\",\n",
       "      ColoredTokens,\n",
       "      {\"tokens\": [\" quick\", \" brown\", \" fox\", \" jumps\", \" over\"], \"values\": [0.0, 0.0, 1.0, 0.0, 0.0]}\n",
       "    )\n",
       "    </script>"
      ]
     },
     "execution_count": 12,
     "metadata": {},
     "output_type": "execute_result"
    }
   ],
   "execution_count": 12
  },
  {
   "metadata": {},
   "cell_type": "markdown",
   "source": "# Display Scope",
   "id": "9f32dea5924a183a"
  },
  {
   "metadata": {
    "ExecuteTime": {
     "end_time": "2025-05-21T19:04:23.373556Z",
     "start_time": "2025-05-21T19:04:23.250110Z"
    }
   },
   "cell_type": "code",
   "source": [
    "text = \"\"\"The quick brown fox jumps over the lazy dog.\n",
    "Also, there are 3.14 apples in the basket.\"\"\"\n",
    "\n",
    "tokens = tokenizer.tokenize(text)\n",
    "\n",
    "token_finder = TokenFinder.create_from_tokenizer(text, tokenizer)\n",
    "\n",
    "start_token = token_finder.find_first(\"lazy\", allow_space_prefix=True)\n",
    "end_token = token_finder.find_first(\"are\", allow_space_prefix=True)\n",
    "\n",
    "scope = Scope(start_token.index, end_token.index, tokens)\n",
    "\n",
    "token_displayer.html_for_scope_with_context(scope, context_len=2)"
   ],
   "id": "d0fc80c5989b82e4",
   "outputs": [
    {
     "data": {
      "text/plain": [
       "<circuitsvis.utils.render.RenderedHTML at 0x1930d8d65d0>"
      ],
      "text/html": [
       "<div id=\"circuits-vis-672bf906-3d4d\" style=\"margin: 15px 0;\"/>\n",
       "    <script crossorigin type=\"module\">\n",
       "    import { render, ColoredTokens } from \"https://unpkg.com/circuitsvis@1.43.3/dist/cdn/esm.js\";\n",
       "    render(\n",
       "      \"circuits-vis-672bf906-3d4d\",\n",
       "      ColoredTokens,\n",
       "      {\"tokens\": [\" over\", \" the\", \" lazy\", \" dog\", \".\", \"\\u21b5\\n\", \"Also\", \",\", \" there\", \" are\", \" 3\", \".\"], \"values\": [0.0, 0.0, 1.0, 1.0, 1.0, 1.0, 1.0, 1.0, 1.0, 1.0, 0.0, 0.0]}\n",
       "    )\n",
       "    </script>"
      ]
     },
     "execution_count": 13,
     "metadata": {},
     "output_type": "execute_result"
    }
   ],
   "execution_count": 13
  }
 ],
 "metadata": {
  "kernelspec": {
   "display_name": "Python 3",
   "language": "python",
   "name": "python3"
  },
  "language_info": {
   "codemirror_mode": {
    "name": "ipython",
    "version": 2
   },
   "file_extension": ".py",
   "mimetype": "text/x-python",
   "name": "python",
   "nbconvert_exporter": "python",
   "pygments_lexer": "ipython2",
   "version": "2.7.6"
  }
 },
 "nbformat": 4,
 "nbformat_minor": 5
}
