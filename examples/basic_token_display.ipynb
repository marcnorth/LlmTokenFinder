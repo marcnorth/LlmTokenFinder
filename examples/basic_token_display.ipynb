{
 "cells": [
  {
   "metadata": {},
   "cell_type": "markdown",
   "source": "The token display functions use circuitsvis functions",
   "id": "98163e837bb0a875"
  },
  {
   "metadata": {},
   "cell_type": "code",
   "outputs": [],
   "execution_count": null,
   "source": [
    "import circuitsvis\n",
    "from llm_inspect import TokenDisplayer, TokenFinder, TokenRange"
   ],
   "id": "4918a16aee3b13ef"
  },
  {
   "metadata": {},
   "cell_type": "code",
   "outputs": [],
   "execution_count": null,
   "source": [
    "from transformers import AutoTokenizer\n",
    "\n",
    "tokenizer = AutoTokenizer.from_pretrained(\"gpt2\")"
   ],
   "id": "920822565eed177c"
  },
  {
   "metadata": {
    "ExecuteTime": {
     "end_time": "2025-05-24T11:51:04.828170Z",
     "start_time": "2025-05-24T11:51:04.825685Z"
    }
   },
   "cell_type": "code",
   "source": [
    "text = \"\"\"The quick brown fox jumps over the lazy dog.\n",
    "Also, there are 3.14 apples in the basket.\"\"\"\n",
    "\n",
    "tokens = tokenizer.tokenize(text, add_special_tokens=True)\n",
    "\n",
    "print(tokens)"
   ],
   "id": "3138958107cad408",
   "outputs": [
    {
     "name": "stdout",
     "output_type": "stream",
     "text": [
      "['The', 'Ġquick', 'Ġbrown', 'Ġfox', 'Ġjumps', 'Ġover', 'Ġthe', 'Ġlazy', 'Ġdog', '.', 'Ċ', 'Also', ',', 'Ġthere', 'Ġare', 'Ġ3', '.', '14', 'Ġapples', 'Ġin', 'Ġthe', 'Ġbasket', '.']\n"
     ]
    }
   ],
   "execution_count": 5
  },
  {
   "metadata": {
    "ExecuteTime": {
     "end_time": "2025-05-22T08:20:05.459708Z",
     "start_time": "2025-05-22T08:20:05.455592Z"
    }
   },
   "cell_type": "code",
   "source": [
    "import torch\n",
    "values = torch.rand(len(tokens))"
   ],
   "id": "f6b2b0b22249eb8",
   "outputs": [],
   "execution_count": 4
  },
  {
   "metadata": {},
   "cell_type": "markdown",
   "source": "# Circuitsvis default visualization",
   "id": "55f1b27d76cb82e8"
  },
  {
   "metadata": {
    "ExecuteTime": {
     "end_time": "2025-05-22T08:20:06.410059Z",
     "start_time": "2025-05-22T08:20:06.235095Z"
    }
   },
   "cell_type": "code",
   "source": [
    "print(\"Default circuitsvis visualization:\")\n",
    "circuitsvis.tokens.colored_tokens(tokens, values)"
   ],
   "id": "f44e049f8e5efb94",
   "outputs": [
    {
     "name": "stdout",
     "output_type": "stream",
     "text": [
      "Default circuitsvis visualization:\n"
     ]
    },
    {
     "ename": "NameError",
     "evalue": "name 'circuitsvis' is not defined",
     "output_type": "error",
     "traceback": [
      "\u001B[31m---------------------------------------------------------------------------\u001B[39m",
      "\u001B[31mNameError\u001B[39m                                 Traceback (most recent call last)",
      "\u001B[36mCell\u001B[39m\u001B[36m \u001B[39m\u001B[32mIn[5]\u001B[39m\u001B[32m, line 2\u001B[39m\n\u001B[32m      1\u001B[39m \u001B[38;5;28mprint\u001B[39m(\u001B[33m\"\u001B[39m\u001B[33mDefault circuitsvis visualization:\u001B[39m\u001B[33m\"\u001B[39m)\n\u001B[32m----> \u001B[39m\u001B[32m2\u001B[39m \u001B[43mcircuitsvis\u001B[49m.tokens.colored_tokens(tokens, values)\n",
      "\u001B[31mNameError\u001B[39m: name 'circuitsvis' is not defined"
     ]
    }
   ],
   "execution_count": 5
  },
  {
   "metadata": {
    "ExecuteTime": {
     "end_time": "2025-05-22T08:20:14.589030Z",
     "start_time": "2025-05-22T08:20:14.458687Z"
    }
   },
   "cell_type": "code",
   "source": [
    "token_displayer = TokenDisplayer.create_for_tokenizer(tokenizer)\n",
    "\n",
    "print(\"Token displayer visualization:\")\n",
    "token_displayer.html_for_pretty_colored_tokens(tokens, values)"
   ],
   "id": "f45bf97e6c0b5a85",
   "outputs": [
    {
     "name": "stdout",
     "output_type": "stream",
     "text": [
      "Token displayer visualization:\n"
     ]
    },
    {
     "data": {
      "text/plain": [
       "<circuitsvis.utils.render.RenderedHTML at 0x22d277c8050>"
      ],
      "text/html": [
       "<div id=\"circuits-vis-9a435ac2-8699\" style=\"margin: 15px 0;\"/>\n",
       "    <script crossorigin type=\"module\">\n",
       "    import { render, ColoredTokens } from \"https://unpkg.com/circuitsvis@1.43.3/dist/cdn/esm.js\";\n",
       "    render(\n",
       "      \"circuits-vis-9a435ac2-8699\",\n",
       "      ColoredTokens,\n",
       "      {\"tokens\": [\"The\", \" quick\", \" brown\", \" fox\", \" jumps\", \" over\", \" the\", \" lazy\", \" dog\", \".\", \"\\u21b5\\n\", \"Also\", \",\", \" there\", \" are\", \" 3\", \".\", \"14\", \" apples\", \" in\", \" the\", \" basket\", \".\"], \"values\": [0.7746433615684509, 0.8554898500442505, 0.38734203577041626, 0.9004310369491577, 0.042616844177246094, 0.3003833293914795, 0.107502281665802, 0.565365195274353, 0.6540967226028442, 0.864974856376648, 0.4588432312011719, 0.000849604606628418, 0.5267153978347778, 0.9345617294311523, 0.14980262517929077, 0.11976933479309082, 0.8804107308387756, 0.7038614749908447, 0.09682464599609375, 0.21819853782653809, 0.32065486907958984, 0.7068015933036804, 0.7180609703063965]}\n",
       "    )\n",
       "    </script>"
      ]
     },
     "execution_count": 7,
     "metadata": {},
     "output_type": "execute_result"
    }
   ],
   "execution_count": 7
  },
  {
   "metadata": {},
   "cell_type": "markdown",
   "source": "# Display Token",
   "id": "7193085a54d3983d"
  },
  {
   "metadata": {
    "ExecuteTime": {
     "end_time": "2025-05-22T08:20:17.405232Z",
     "start_time": "2025-05-22T08:20:17.401895Z"
    }
   },
   "cell_type": "code",
   "source": [
    "text = \"\"\"The quick brown fox jumps over the lazy dog.\n",
    "Also, there are 3.14 apples in the basket.\"\"\"\n",
    "\n",
    "token_finder = TokenFinder.create_from_tokenizer(text, tokenizer)\n",
    "\n",
    "token = token_finder.find_first(\"fox\", allow_space_prefix=True)"
   ],
   "id": "e37757cd7a7fc339",
   "outputs": [],
   "execution_count": 8
  },
  {
   "metadata": {
    "ExecuteTime": {
     "end_time": "2025-05-22T08:20:18.945757Z",
     "start_time": "2025-05-22T08:20:18.842194Z"
    }
   },
   "cell_type": "code",
   "source": [
    "token_displayer = TokenDisplayer.create_for_tokenizer(tokenizer)\n",
    "\n",
    "token_displayer.html_for_token_with_context(token, context_len=2)"
   ],
   "id": "65528503562f21e3",
   "outputs": [
    {
     "data": {
      "text/plain": [
       "<circuitsvis.utils.render.RenderedHTML at 0x22d2649ecf0>"
      ],
      "text/html": [
       "<div id=\"circuits-vis-8908234a-31d2\" style=\"margin: 15px 0;\"/>\n",
       "    <script crossorigin type=\"module\">\n",
       "    import { render, ColoredTokens } from \"https://unpkg.com/circuitsvis@1.43.3/dist/cdn/esm.js\";\n",
       "    render(\n",
       "      \"circuits-vis-8908234a-31d2\",\n",
       "      ColoredTokens,\n",
       "      {\"tokens\": [\" quick\", \" brown\", \" fox\", \" jumps\", \" over\"], \"values\": [0.0, 0.0, 1.0, 0.0, 0.0]}\n",
       "    )\n",
       "    </script>"
      ]
     },
     "execution_count": 9,
     "metadata": {},
     "output_type": "execute_result"
    }
   ],
   "execution_count": 9
  },
  {
   "metadata": {},
   "cell_type": "markdown",
   "source": "# Display Scope",
   "id": "9f32dea5924a183a"
  },
  {
   "metadata": {
    "ExecuteTime": {
     "end_time": "2025-05-22T08:20:24.618153Z",
     "start_time": "2025-05-22T08:20:24.450668Z"
    }
   },
   "cell_type": "code",
   "source": [
    "text = \"\"\"The quick brown fox jumps over the lazy dog.\n",
    "Also, there are 3.14 apples in the basket.\"\"\"\n",
    "\n",
    "tokens = tokenizer.tokenize(text)\n",
    "\n",
    "token_finder = TokenFinder.create_from_tokenizer(text, tokenizer)\n",
    "\n",
    "start_token = token_finder.find_first(\"lazy\", allow_space_prefix=True)\n",
    "end_token = token_finder.find_first(\"are\", allow_space_prefix=True)\n",
    "\n",
    "scope = TokenRange(start_token.index, end_token.index, tokens)\n",
    "\n",
    "token_displayer.html_for_scope_with_context(scope, context_len=2)"
   ],
   "id": "d0fc80c5989b82e4",
   "outputs": [
    {
     "data": {
      "text/plain": [
       "<circuitsvis.utils.render.RenderedHTML at 0x22d30fadf10>"
      ],
      "text/html": [
       "<div id=\"circuits-vis-d4423d92-b739\" style=\"margin: 15px 0;\"/>\n",
       "    <script crossorigin type=\"module\">\n",
       "    import { render, ColoredTokens } from \"https://unpkg.com/circuitsvis@1.43.3/dist/cdn/esm.js\";\n",
       "    render(\n",
       "      \"circuits-vis-d4423d92-b739\",\n",
       "      ColoredTokens,\n",
       "      {\"tokens\": [\" over\", \" the\", \" lazy\", \" dog\", \".\", \"\\u21b5\\n\", \"Also\", \",\", \" there\", \" are\", \" 3\", \".\"], \"values\": [0.0, 0.0, 1.0, 1.0, 1.0, 1.0, 1.0, 1.0, 1.0, 1.0, 0.0, 0.0]}\n",
       "    )\n",
       "    </script>"
      ]
     },
     "execution_count": 10,
     "metadata": {},
     "output_type": "execute_result"
    }
   ],
   "execution_count": 10
  }
 ],
 "metadata": {
  "kernelspec": {
   "display_name": "Python 3",
   "language": "python",
   "name": "python3"
  },
  "language_info": {
   "codemirror_mode": {
    "name": "ipython",
    "version": 2
   },
   "file_extension": ".py",
   "mimetype": "text/x-python",
   "name": "python",
   "nbconvert_exporter": "python",
   "pygments_lexer": "ipython2",
   "version": "2.7.6"
  }
 },
 "nbformat": 4,
 "nbformat_minor": 5
}
