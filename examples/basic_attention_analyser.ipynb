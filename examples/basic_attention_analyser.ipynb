{
 "cells": [
  {
   "cell_type": "markdown",
   "id": "311d10f985a2a290",
   "metadata": {},
   "source": [
    "## Load model"
   ]
  },
  {
   "cell_type": "code",
   "execution_count": 1,
   "id": "c14e84c0b4292371",
   "metadata": {
    "ExecuteTime": {
     "end_time": "2025-05-24T12:08:43.554236Z",
     "start_time": "2025-05-24T12:08:38.537772Z"
    }
   },
   "outputs": [
    {
     "name": "stderr",
     "output_type": "stream",
     "text": [
      "C:\\Users\\UKGC\\PycharmProjects\\TokenFinder\\.venv\\Lib\\site-packages\\tqdm\\auto.py:21: TqdmWarning: IProgress not found. Please update jupyter and ipywidgets. See https://ipywidgets.readthedocs.io/en/stable/user_install.html\n",
      "  from .autonotebook import tqdm as notebook_tqdm\n"
     ]
    },
    {
     "name": "stdout",
     "output_type": "stream",
     "text": [
      "Loaded pretrained model gpt2-small into HookedTransformer\n"
     ]
    }
   ],
   "source": [
    "import torch\n",
    "from transformer_lens import HookedTransformer\n",
    "\n",
    "model = HookedTransformer.from_pretrained(\"gpt2-small\")"
   ]
  },
  {
   "cell_type": "markdown",
   "id": "808ba72f1aec59f8",
   "metadata": {},
   "source": [
    "### Forward pass through the LLM to get activations"
   ]
  },
  {
   "cell_type": "code",
   "execution_count": 2,
   "id": "308390ad64aaeec0",
   "metadata": {
    "ExecuteTime": {
     "end_time": "2025-05-24T12:08:43.713662Z",
     "start_time": "2025-05-24T12:08:43.644878Z"
    }
   },
   "outputs": [],
   "source": [
    "text = \"The quick brown fox jumps over the lazy dog.\"\n",
    "\n",
    "tokens = model.tokenizer.tokenize(text, add_special_tokens=True)\n",
    "token_ids = model.tokenizer.encode(text, return_tensors=\"pt\")\n",
    "\n",
    "_, activation_cache = model.run_with_cache(token_ids)"
   ]
  },
  {
   "cell_type": "markdown",
   "id": "2b3336de137059a4",
   "metadata": {},
   "source": [
    "## Find heads that match a certain criteria"
   ]
  },
  {
   "metadata": {},
   "cell_type": "code",
   "outputs": [],
   "execution_count": null,
   "source": [
    "from llm_inspect import ActivationAnalyzer, TokenDisplayer\n",
    "\n",
    "activation_analyser = ActivationAnalyzer(tokens, activation_cache)\n",
    "\n",
    "token_displayer = TokenDisplayer.create_for_tokenizer(model.tokenizer)"
   ],
   "id": "f7b25bb5de4b2f78"
  },
  {
   "cell_type": "markdown",
   "id": "6e6dc258e6b1b340",
   "metadata": {},
   "source": [
    "### Heads that look at the first token"
   ]
  },
  {
   "cell_type": "code",
   "execution_count": 4,
   "id": "3417fec08dee9337",
   "metadata": {
    "ExecuteTime": {
     "end_time": "2025-05-24T12:08:45.253547Z",
     "start_time": "2025-05-24T12:08:45.119591Z"
    }
   },
   "outputs": [
    {
     "name": "stdout",
     "output_type": "stream",
     "text": [
      "Found 89 head(s) looking at the first token\n",
      "Head 0.2:\n",
      "None\n",
      "<div id=\"circuits-vis-dc79ba87-d612\" style=\"margin: 15px 0;\"/>\n",
      "    <script crossorigin type=\"module\">\n",
      "    import { render, ColoredTokensMulti } from \"https://unpkg.com/circuitsvis@1.43.3/dist/cdn/esm.js\";\n",
      "    render(\n",
      "      \"circuits-vis-dc79ba87-d612\",\n",
      "      ColoredTokensMulti,\n",
      "      {\"tokens\": [\"The\", \" quick\", \" brown\", \" fox\", \" jumps\", \" over\", \" the\", \" lazy\", \" dog\", \".\"], \"values\": [[1.0, 0.9663582444190979, 0.8084290027618408, 0.7258327603340149, 0.42324545979499817, 0.48319047689437866, 0.39391928911209106, 0.3522254526615143, 0.36793631315231323, 0.5735489130020142], [0.0, 0.03364172205328941, 0.11924774199724197, 0.0672319158911705, 0.3104708790779114, 0.16336768865585327, 0.06828046590089798, 0.09294448047876358, 0.07791423797607422, 0.06987302750349045], [0.0, 0.0, 0.07232324033975601, 0.10149607807397842, 0.17521129548549652, 0.06768796592950821, 0.05586722865700722, 0.05886082351207733, 0.03597508370876312, 0.020358052104711533], [0.0, 0.0, 0.0, 0.10543929785490036, 0.030563363805413246, 0.04192798212170601, 0.09121070802211761, 0.11232250183820724, 0.09255163371562958, 0.025121666491031647], [0.0, 0.0, 0.0, 0.0, 0.060508985072374344, 0.06750389188528061, 0.10065437108278275, 0.09682275354862213, 0.046116676181554794, 0.07480211555957794], [0.0, 0.0, 0.0, 0.0, 0.0, 0.17632201313972473, 0.22857876121997833, 0.0881500169634819, 0.06476040184497833, 0.049832217395305634], [0.0, 0.0, 0.0, 0.0, 0.0, 0.0, 0.06148912012577057, 0.14891760051250458, 0.10922625660896301, 0.036182478070259094], [0.0, 0.0, 0.0, 0.0, 0.0, 0.0, 0.0, 0.04975637048482895, 0.06425214558839798, 0.04457449913024902], [0.0, 0.0, 0.0, 0.0, 0.0, 0.0, 0.0, 0.0, 0.14126722514629364, 0.031091386452317238], [0.0, 0.0, 0.0, 0.0, 0.0, 0.0, 0.0, 0.0, 0.0, 0.07461581379175186]], \"labels\": [\"The\", \" quick\", \" brown\", \" fox\", \" jumps\", \" over\", \" the\", \" lazy\", \" dog\", \".\"]}\n",
      "    )\n",
      "    </script>\n"
     ]
    },
    {
     "data": {
      "text/html": [
       "<div id=\"circuits-vis-dc79ba87-d612\" style=\"margin: 15px 0;\"/>\n",
       "    <script crossorigin type=\"module\">\n",
       "    import { render, ColoredTokensMulti } from \"https://unpkg.com/circuitsvis@1.43.3/dist/cdn/esm.js\";\n",
       "    render(\n",
       "      \"circuits-vis-dc79ba87-d612\",\n",
       "      ColoredTokensMulti,\n",
       "      {\"tokens\": [\"The\", \" quick\", \" brown\", \" fox\", \" jumps\", \" over\", \" the\", \" lazy\", \" dog\", \".\"], \"values\": [[1.0, 0.9663582444190979, 0.8084290027618408, 0.7258327603340149, 0.42324545979499817, 0.48319047689437866, 0.39391928911209106, 0.3522254526615143, 0.36793631315231323, 0.5735489130020142], [0.0, 0.03364172205328941, 0.11924774199724197, 0.0672319158911705, 0.3104708790779114, 0.16336768865585327, 0.06828046590089798, 0.09294448047876358, 0.07791423797607422, 0.06987302750349045], [0.0, 0.0, 0.07232324033975601, 0.10149607807397842, 0.17521129548549652, 0.06768796592950821, 0.05586722865700722, 0.05886082351207733, 0.03597508370876312, 0.020358052104711533], [0.0, 0.0, 0.0, 0.10543929785490036, 0.030563363805413246, 0.04192798212170601, 0.09121070802211761, 0.11232250183820724, 0.09255163371562958, 0.025121666491031647], [0.0, 0.0, 0.0, 0.0, 0.060508985072374344, 0.06750389188528061, 0.10065437108278275, 0.09682275354862213, 0.046116676181554794, 0.07480211555957794], [0.0, 0.0, 0.0, 0.0, 0.0, 0.17632201313972473, 0.22857876121997833, 0.0881500169634819, 0.06476040184497833, 0.049832217395305634], [0.0, 0.0, 0.0, 0.0, 0.0, 0.0, 0.06148912012577057, 0.14891760051250458, 0.10922625660896301, 0.036182478070259094], [0.0, 0.0, 0.0, 0.0, 0.0, 0.0, 0.0, 0.04975637048482895, 0.06425214558839798, 0.04457449913024902], [0.0, 0.0, 0.0, 0.0, 0.0, 0.0, 0.0, 0.0, 0.14126722514629364, 0.031091386452317238], [0.0, 0.0, 0.0, 0.0, 0.0, 0.0, 0.0, 0.0, 0.0, 0.07461581379175186]], \"labels\": [\"The\", \" quick\", \" brown\", \" fox\", \" jumps\", \" over\", \" the\", \" lazy\", \" dog\", \".\"]}\n",
       "    )\n",
       "    </script>"
      ],
      "text/plain": [
       "<circuitsvis.utils.render.RenderedHTML at 0x18eb1c3f950>"
      ]
     },
     "execution_count": 4,
     "metadata": {},
     "output_type": "execute_result"
    }
   ],
   "source": [
    "# Find heads that always look at the first token, i.e. the highest attention score for each token is the first token\n",
    "\n",
    "looks_at_first_token = lambda attention: torch.all(attention.argmax(-1) == 0)\n",
    "heads_looking_at_first_token = activation_analyser.find_heads_matching_criteria(looks_at_first_token)\n",
    "\n",
    "print(f\"Found {len(heads_looking_at_first_token)} head(s) looking at the first token\")\n",
    "\n",
    "print(f\"Head {heads_looking_at_first_token[0]}:\")\n",
    "\n",
    "token_displayer.html_for_token_attention(tokens, activation_cache, heads_looking_at_first_token[0])"
   ]
  },
  {
   "cell_type": "markdown",
   "id": "eb3ef4dc3db41a83",
   "metadata": {},
   "source": [
    "### Heads that look at the previous token"
   ]
  },
  {
   "cell_type": "code",
   "execution_count": 5,
   "id": "initial_id",
   "metadata": {
    "ExecuteTime": {
     "end_time": "2025-05-12T08:04:25.926579Z",
     "start_time": "2025-05-12T08:04:25.830316Z"
    }
   },
   "outputs": [
    {
     "name": "stdout",
     "output_type": "stream",
     "text": [
      "Found 1 head(s) looking at the previous token\n",
      "Head 4.11:\n",
      "None\n",
      "<div id=\"circuits-vis-c34f2417-06da\" style=\"margin: 15px 0;\"/>\n",
      "    <script crossorigin type=\"module\">\n",
      "    import { render, ColoredTokensMulti } from \"https://unpkg.com/circuitsvis@1.43.3/dist/cdn/esm.js\";\n",
      "    render(\n",
      "      \"circuits-vis-c34f2417-06da\",\n",
      "      ColoredTokensMulti,\n",
      "      {\"tokens\": [\"The\", \" quick\", \" brown\", \" fox\", \" jumps\", \" over\", \" the\", \" lazy\", \" dog\", \".\"], \"values\": [[1.0, 0.9987305998802185, 4.5460211595127475e-07, 5.0940279550104606e-08, 5.868634023187269e-09, 6.281377501471397e-11, 3.857139496687978e-09, 2.6639092993718805e-06, 1.8228432097089353e-08, 1.1756584594735386e-10], [0.0, 0.0012693916214630008, 0.9998726844787598, 7.438994998665294e-06, 4.2916821626440976e-14, 3.548097600700871e-17, 3.355527307120566e-17, 3.504710965884783e-09, 2.1310512382521907e-11, 4.518948566870274e-17], [0.0, 0.0, 0.00012680067447945476, 0.9997484087944031, 2.097707920256653e-06, 1.561583842920808e-13, 1.6742897927725809e-15, 1.3414404881491836e-14, 3.371318157974201e-08, 4.0906601023182887e-13], [0.0, 0.0, 0.0, 0.00024411760387010872, 0.9999788999557495, 4.115520813030571e-09, 5.027501852328253e-13, 8.043908205302363e-16, 1.5905572414709468e-09, 6.602508051400946e-08], [0.0, 0.0, 0.0, 0.0, 1.893340959213674e-05, 0.9999979734420776, 1.8927177602989786e-09, 3.847895714133119e-16, 1.2951892336410253e-10, 3.3002720556396525e-07], [0.0, 0.0, 0.0, 0.0, 0.0, 2.0617897007468855e-06, 0.9999967813491821, 3.02083655867591e-08, 1.337812136625871e-07, 4.999322289478414e-09], [0.0, 0.0, 0.0, 0.0, 0.0, 0.0, 3.2281332096317783e-06, 0.9997791647911072, 1.4657855373911843e-08, 4.208650788983803e-11], [0.0, 0.0, 0.0, 0.0, 0.0, 0.0, 0.0, 0.00021813598868902773, 0.9998308420181274, 7.287483185791643e-07], [0.0, 0.0, 0.0, 0.0, 0.0, 0.0, 0.0, 0.0, 0.00016884949582163244, 0.9999986886978149], [0.0, 0.0, 0.0, 0.0, 0.0, 0.0, 0.0, 0.0, 0.0, 2.654633988186106e-07]], \"labels\": [\"The\", \" quick\", \" brown\", \" fox\", \" jumps\", \" over\", \" the\", \" lazy\", \" dog\", \".\"]}\n",
      "    )\n",
      "    </script>\n"
     ]
    },
    {
     "data": {
      "text/html": [
       "<div id=\"circuits-vis-c34f2417-06da\" style=\"margin: 15px 0;\"/>\n",
       "    <script crossorigin type=\"module\">\n",
       "    import { render, ColoredTokensMulti } from \"https://unpkg.com/circuitsvis@1.43.3/dist/cdn/esm.js\";\n",
       "    render(\n",
       "      \"circuits-vis-c34f2417-06da\",\n",
       "      ColoredTokensMulti,\n",
       "      {\"tokens\": [\"The\", \" quick\", \" brown\", \" fox\", \" jumps\", \" over\", \" the\", \" lazy\", \" dog\", \".\"], \"values\": [[1.0, 0.9987305998802185, 4.5460211595127475e-07, 5.0940279550104606e-08, 5.868634023187269e-09, 6.281377501471397e-11, 3.857139496687978e-09, 2.6639092993718805e-06, 1.8228432097089353e-08, 1.1756584594735386e-10], [0.0, 0.0012693916214630008, 0.9998726844787598, 7.438994998665294e-06, 4.2916821626440976e-14, 3.548097600700871e-17, 3.355527307120566e-17, 3.504710965884783e-09, 2.1310512382521907e-11, 4.518948566870274e-17], [0.0, 0.0, 0.00012680067447945476, 0.9997484087944031, 2.097707920256653e-06, 1.561583842920808e-13, 1.6742897927725809e-15, 1.3414404881491836e-14, 3.371318157974201e-08, 4.0906601023182887e-13], [0.0, 0.0, 0.0, 0.00024411760387010872, 0.9999788999557495, 4.115520813030571e-09, 5.027501852328253e-13, 8.043908205302363e-16, 1.5905572414709468e-09, 6.602508051400946e-08], [0.0, 0.0, 0.0, 0.0, 1.893340959213674e-05, 0.9999979734420776, 1.8927177602989786e-09, 3.847895714133119e-16, 1.2951892336410253e-10, 3.3002720556396525e-07], [0.0, 0.0, 0.0, 0.0, 0.0, 2.0617897007468855e-06, 0.9999967813491821, 3.02083655867591e-08, 1.337812136625871e-07, 4.999322289478414e-09], [0.0, 0.0, 0.0, 0.0, 0.0, 0.0, 3.2281332096317783e-06, 0.9997791647911072, 1.4657855373911843e-08, 4.208650788983803e-11], [0.0, 0.0, 0.0, 0.0, 0.0, 0.0, 0.0, 0.00021813598868902773, 0.9998308420181274, 7.287483185791643e-07], [0.0, 0.0, 0.0, 0.0, 0.0, 0.0, 0.0, 0.0, 0.00016884949582163244, 0.9999986886978149], [0.0, 0.0, 0.0, 0.0, 0.0, 0.0, 0.0, 0.0, 0.0, 2.654633988186106e-07]], \"labels\": [\"The\", \" quick\", \" brown\", \" fox\", \" jumps\", \" over\", \" the\", \" lazy\", \" dog\", \".\"]}\n",
       "    )\n",
       "    </script>"
      ],
      "text/plain": [
       "<circuitsvis.utils.render.RenderedHTML at 0x18eafbd3950>"
      ]
     },
     "execution_count": 5,
     "metadata": {},
     "output_type": "execute_result"
    }
   ],
   "source": [
    "# Find heads where every token looks at the previous token, i.e. the highest attention score for each token is the previous token\n",
    "\n",
    "looks_at_previous_token = lambda attention: torch.all(attention.argmax(-1)[1:] == torch.arange(attention.shape[0]-1))\n",
    "heads_looking_at_previous_token = activation_analyser.find_heads_matching_criteria(looks_at_previous_token)\n",
    "\n",
    "print(f\"Found {len(heads_looking_at_previous_token)} head(s) looking at the previous token\")\n",
    "\n",
    "print(f\"Head {heads_looking_at_previous_token[0]}:\")\n",
    "\n",
    "token_displayer.html_for_token_attention(tokens, activation_cache, heads_looking_at_previous_token[0])"
   ]
  },
  {
   "cell_type": "markdown",
   "id": "88d7f8c2d623b83e",
   "metadata": {},
   "source": [
    "### Attention pattern"
   ]
  },
  {
   "cell_type": "code",
   "execution_count": 6,
   "id": "c5cd4e0a0169cb1f",
   "metadata": {
    "ExecuteTime": {
     "end_time": "2025-05-12T08:04:26.851728Z",
     "start_time": "2025-05-12T08:04:26.738896Z"
    }
   },
   "outputs": [
    {
     "data": {
      "text/html": [
       "<div id=\"circuits-vis-6580fa11-da19\" style=\"margin: 15px 0;\"/>\n",
       "    <script crossorigin type=\"module\">\n",
       "    import { render, AttentionPattern } from \"https://unpkg.com/circuitsvis@1.43.3/dist/cdn/esm.js\";\n",
       "    render(\n",
       "      \"circuits-vis-6580fa11-da19\",\n",
       "      AttentionPattern,\n",
       "      {\"tokens\": [\"The\", \"\\u0120quick\", \"\\u0120brown\", \"\\u0120fox\", \"\\u0120jumps\", \"\\u0120over\", \"\\u0120the\", \"\\u0120lazy\", \"\\u0120dog\", \".\"], \"attention\": [[1.0, 0.0, 0.0, 0.0, 0.0, 0.0, 0.0, 0.0, 0.0, 0.0], [0.9987305998802185, 0.0012693916214630008, 0.0, 0.0, 0.0, 0.0, 0.0, 0.0, 0.0, 0.0], [4.5460211595127475e-07, 0.9998726844787598, 0.00012680067447945476, 0.0, 0.0, 0.0, 0.0, 0.0, 0.0, 0.0], [5.0940279550104606e-08, 7.438994998665294e-06, 0.9997484087944031, 0.00024411760387010872, 0.0, 0.0, 0.0, 0.0, 0.0, 0.0], [5.868634023187269e-09, 4.2916821626440976e-14, 2.097707920256653e-06, 0.9999788999557495, 1.893340959213674e-05, 0.0, 0.0, 0.0, 0.0, 0.0], [6.281377501471397e-11, 3.548097600700871e-17, 1.561583842920808e-13, 4.115520813030571e-09, 0.9999979734420776, 2.0617897007468855e-06, 0.0, 0.0, 0.0, 0.0], [3.857139496687978e-09, 3.355527307120566e-17, 1.6742897927725809e-15, 5.027501852328253e-13, 1.8927177602989786e-09, 0.9999967813491821, 3.2281332096317783e-06, 0.0, 0.0, 0.0], [2.6639092993718805e-06, 3.504710965884783e-09, 1.3414404881491836e-14, 8.043908205302363e-16, 3.847895714133119e-16, 3.02083655867591e-08, 0.9997791647911072, 0.00021813598868902773, 0.0, 0.0], [1.8228432097089353e-08, 2.1310512382521907e-11, 3.371318157974201e-08, 1.5905572414709468e-09, 1.2951892336410253e-10, 1.337812136625871e-07, 1.4657855373911843e-08, 0.9998308420181274, 0.00016884949582163244, 0.0], [1.1756584594735386e-10, 4.518948566870274e-17, 4.0906601023182887e-13, 6.602508051400946e-08, 3.3002720556396525e-07, 4.999322289478414e-09, 4.208650788983803e-11, 7.287483185791643e-07, 0.9999986886978149, 2.654633988186106e-07]]}\n",
       "    )\n",
       "    </script>"
      ],
      "text/plain": [
       "<circuitsvis.utils.render.RenderedHTML at 0x21292e77ef0>"
      ]
     },
     "execution_count": 6,
     "metadata": {},
     "output_type": "execute_result"
    }
   ],
   "source": [
    "token_displayer.html_for_attention_pattern(tokens, activation_cache, heads_looking_at_previous_token[0])"
   ]
  }
 ],
 "metadata": {
  "kernelspec": {
   "display_name": "Python 3 (ipykernel)",
   "language": "python",
   "name": "python3"
  },
  "language_info": {
   "codemirror_mode": {
    "name": "ipython",
    "version": 3
   },
   "file_extension": ".py",
   "mimetype": "text/x-python",
   "name": "python",
   "nbconvert_exporter": "python",
   "pygments_lexer": "ipython3",
   "version": "3.12.1"
  }
 },
 "nbformat": 4,
 "nbformat_minor": 5
}
