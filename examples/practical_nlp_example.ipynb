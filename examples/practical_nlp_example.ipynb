{
 "cells": [
  {
   "metadata": {},
   "cell_type": "markdown",
   "source": "This example finds attention heads that move information from adjectives to the corresponding nouns in a sentence. It uses the `ActivationAnalyzer` class to find heads that match a certain criteria.",
   "id": "1d537a25fa3aa3eb"
  },
  {
   "metadata": {},
   "cell_type": "markdown",
   "source": "## Setup",
   "id": "7c559bbc42ac6698"
  },
  {
   "metadata": {
    "ExecuteTime": {
     "end_time": "2025-05-12T17:24:25.819515Z",
     "start_time": "2025-05-12T17:24:07.351393Z"
    }
   },
   "cell_type": "code",
   "source": [
    "from transformer_lens import HookedTransformer\n",
    "\n",
    "\n",
    "llm = HookedTransformer.from_pretrained(\"EleutherAI/pythia-2.8b-deduped-v0\")"
   ],
   "id": "68280d02917badb2",
   "outputs": [
    {
     "name": "stderr",
     "output_type": "stream",
     "text": [
      "C:\\Users\\UKGC\\PycharmProjects\\TokenFinder\\.venv\\Lib\\site-packages\\tqdm\\auto.py:21: TqdmWarning: IProgress not found. Please update jupyter and ipywidgets. See https://ipywidgets.readthedocs.io/en/stable/user_install.html\n",
      "  from .autonotebook import tqdm as notebook_tqdm\n"
     ]
    },
    {
     "name": "stdout",
     "output_type": "stream",
     "text": [
      "Loaded pretrained model EleutherAI/pythia-2.8b-deduped-v0 into HookedTransformer\n"
     ]
    }
   ],
   "execution_count": 1
  },
  {
   "metadata": {
    "ExecuteTime": {
     "end_time": "2025-05-12T17:24:26.098640Z",
     "start_time": "2025-05-12T17:24:26.091643Z"
    }
   },
   "cell_type": "code",
   "source": [
    "text = \"The quick, brown fox jumps over the lazy dog.\"\n",
    "\n",
    "input_tokens = llm.tokenizer.tokenize(text, add_special_tokens=True)\n",
    "input_token_ids = llm.tokenizer.encode(text, add_special_tokens=True, return_tensors=\"pt\")\n",
    "\n",
    "print(input_tokens)\n",
    "print(input_token_ids)"
   ],
   "id": "d17ffa61b685065a",
   "outputs": [
    {
     "name": "stdout",
     "output_type": "stream",
     "text": [
      "['<|endoftext|>', 'The', 'Ġquick', ',', 'Ġbrown', 'Ġfox', 'Ġjumps', 'Ġover', 'Ġthe', 'Ġlazy', 'Ġdog', '.']\n",
      "tensor([[    0,   510,  3158,    13,  8516, 30013, 27287,   689,   253, 22658,\n",
      "          4370,    15]])\n"
     ]
    }
   ],
   "execution_count": 2
  },
  {
   "metadata": {
    "ExecuteTime": {
     "end_time": "2025-05-12T17:24:27.137664Z",
     "start_time": "2025-05-12T17:24:26.175149Z"
    }
   },
   "cell_type": "code",
   "source": "_, activation_cache = llm.run_with_cache(input_token_ids)",
   "id": "9cd6b05488fa31a1",
   "outputs": [],
   "execution_count": 3
  },
  {
   "metadata": {},
   "cell_type": "markdown",
   "source": "## Find noun-adjective pairs",
   "id": "b6c55287ea795aff"
  },
  {
   "metadata": {
    "ExecuteTime": {
     "end_time": "2025-05-12T17:24:33.895229Z",
     "start_time": "2025-05-12T17:24:33.862699Z"
    }
   },
   "cell_type": "code",
   "source": [
    "from llm_token_finder.token_finder import Token\n",
    "from dataclasses import dataclass\n",
    "\n",
    "@dataclass\n",
    "class Noun:\n",
    "    noun_token: Token\n",
    "    adjective_tokens: list[Token]"
   ],
   "id": "74eea3d00a5bb80e",
   "outputs": [],
   "execution_count": 4
  },
  {
   "metadata": {
    "ExecuteTime": {
     "end_time": "2025-05-12T17:24:34.309700Z",
     "start_time": "2025-05-12T17:24:34.305691Z"
    }
   },
   "cell_type": "code",
   "source": [
    "from llm_token_finder import TokenFinder, ActivationAnalyzer\n",
    "\n",
    "\n",
    "token_finder = TokenFinder.create_from_tokenizer(text, llm.tokenizer)\n",
    "activation_analyzer = ActivationAnalyzer.create_from_tokenizer(llm.tokenizer, input_tokens, activation_cache)"
   ],
   "id": "5003a0525eb8944f",
   "outputs": [],
   "execution_count": 5
  },
  {
   "metadata": {
    "ExecuteTime": {
     "end_time": "2025-05-12T17:24:35.749901Z",
     "start_time": "2025-05-12T17:24:35.746737Z"
    }
   },
   "cell_type": "code",
   "source": [
    "fox = Noun(\n",
    "    noun_token=token_finder.find_first(\"fox\", allow_space_prefix=True),\n",
    "    adjective_tokens=[\n",
    "        token_finder.find_first(\"quick\", allow_space_prefix=True),\n",
    "        token_finder.find_first(\"brown\", allow_space_prefix=True),\n",
    "    ],\n",
    ")\n",
    "\n",
    "dog = Noun(\n",
    "    noun_token=token_finder.find_first(\"dog\", allow_space_prefix=True),\n",
    "    adjective_tokens=[\n",
    "        token_finder.find_first(\"lazy\", allow_space_prefix=True),\n",
    "    ],\n",
    ")\n",
    "\n",
    "nouns = [fox, dog]\n",
    "\n",
    "print(fox)\n",
    "print(dog)"
   ],
   "id": "7cd61aa2652bd34b",
   "outputs": [
    {
     "name": "stdout",
     "output_type": "stream",
     "text": [
      "Noun(noun_token=Token(index=5, value='Ġfox'), adjective_tokens=[Token(index=2, value='Ġquick'), Token(index=4, value='Ġbrown')])\n",
      "Noun(noun_token=Token(index=10, value='Ġdog'), adjective_tokens=[Token(index=9, value='Ġlazy')])\n"
     ]
    }
   ],
   "execution_count": 6
  },
  {
   "metadata": {},
   "cell_type": "markdown",
   "source": "### Find heads that move information from adjectives to nouns",
   "id": "796c5a4ffb7c5a06"
  },
  {
   "metadata": {
    "ExecuteTime": {
     "end_time": "2025-05-12T17:24:36.297619Z",
     "start_time": "2025-05-12T17:24:36.279346Z"
    }
   },
   "cell_type": "code",
   "source": [
    "from torch import Tensor\n",
    "from jaxtyping import Float\n",
    "\n",
    "\n",
    "def criteria(attention: Float[Tensor, \"q v\"]) -> bool:\n",
    "    \"\"\"\n",
    "    Returns true if the maximum attention scores for each noun is the corresponding adjectives\n",
    "    \"\"\"\n",
    "    for noun in nouns:\n",
    "        noun_attention_scores = attention[noun.noun_token.index]\n",
    "        top_attention_score_indexes = noun_attention_scores.topk(len(noun.adjective_tokens)).indices\n",
    "        for adjective_token in noun.adjective_tokens:\n",
    "            if adjective_token.index not in top_attention_score_indexes:\n",
    "                return False\n",
    "    return True\n",
    "\n",
    "\n",
    "noun_advective_heads = activation_analyzer.find_heads_matching_criteria(criteria)\n",
    "\n",
    "print(f\"Found {len(noun_advective_heads)} head(s) that move information from adjectives to nouns\")"
   ],
   "id": "7cdacdaf010feea0",
   "outputs": [
    {
     "name": "stdout",
     "output_type": "stream",
     "text": [
      "Found 1 head(s) that move information from adjectives to nouns\n"
     ]
    }
   ],
   "execution_count": 7
  },
  {
   "metadata": {},
   "cell_type": "markdown",
   "source": "## Visualise",
   "id": "ce93680507673c67"
  },
  {
   "metadata": {
    "ExecuteTime": {
     "end_time": "2025-05-12T17:24:37.820661Z",
     "start_time": "2025-05-12T17:24:37.817011Z"
    }
   },
   "cell_type": "code",
   "source": [
    "from llm_token_finder import TokenDisplayer\n",
    "\n",
    "\n",
    "token_displayer = TokenDisplayer.create_for_tokenizer(llm.tokenizer)"
   ],
   "id": "64f8fcb7059ef2d8",
   "outputs": [],
   "execution_count": 8
  },
  {
   "metadata": {
    "ExecuteTime": {
     "end_time": "2025-05-12T17:24:39.978405Z",
     "start_time": "2025-05-12T17:24:39.853883Z"
    }
   },
   "cell_type": "code",
   "source": [
    "print(f\"Head {noun_advective_heads[0]}:\")\n",
    "\n",
    "token_displayer.html_for_token_attention(\n",
    "    input_tokens,\n",
    "    activation_cache,\n",
    "    noun_advective_heads[0],\n",
    ")"
   ],
   "id": "9e41b38fcc171b1c",
   "outputs": [
    {
     "name": "stdout",
     "output_type": "stream",
     "text": [
      "Head 1.6:\n"
     ]
    },
    {
     "data": {
      "text/plain": [
       "<circuitsvis.utils.render.RenderedHTML at 0x2331921aa20>"
      ],
      "text/html": [
       "<div id=\"circuits-vis-fe8d788f-bbf5\" style=\"margin: 15px 0;\"/>\n",
       "    <script crossorigin type=\"module\">\n",
       "    import { render, ColoredTokensMulti } from \"https://unpkg.com/circuitsvis@1.43.3/dist/cdn/esm.js\";\n",
       "    render(\n",
       "      \"circuits-vis-fe8d788f-bbf5\",\n",
       "      ColoredTokensMulti,\n",
       "      {\"tokens\": [\"<|endoftext|>\", \"The\", \" quick\", \",\", \" brown\", \" fox\", \" jumps\", \" over\", \" the\", \" lazy\", \" dog\", \".\"], \"values\": [[1.0, 0.5745729804039001, 0.5643715262413025, 0.2916519343852997, 0.11171503365039825, 0.006813441403210163, 0.016480935737490654, 0.03763948753476143, 0.032053712755441666, 0.01750813238322735, 0.002605561865493655, 1.4434226613957435e-05], [0.0, 0.42542698979377747, 0.33343997597694397, 0.49367985129356384, 0.3198864459991455, 0.050433237105607986, 0.2130262851715088, 0.1683732271194458, 0.10081013292074203, 0.06325258314609528, 0.012996654957532883, 8.641552267363295e-05], [0.0, 0.0, 0.10218848288059235, 0.13296116888523102, 0.3946337103843689, 0.23550207912921906, 0.10434635728597641, 0.03218117728829384, 0.03317483142018318, 0.06732618063688278, 0.03855617344379425, 4.585901842801832e-05], [0.0, 0.0, 0.0, 0.08170703798532486, 0.11034245043992996, 0.10572316497564316, 0.0780426636338234, 0.08049052953720093, 0.027680998668074608, 0.006609966978430748, 0.008515161462128162, 0.0003391807258594781], [0.0, 0.0, 0.0, 0.0, 0.06342235207557678, 0.5179566144943237, 0.34955137968063354, 0.15711158514022827, 0.051924191415309906, 0.025875426828861237, 0.02848026715219021, 0.0002161805023206398], [0.0, 0.0, 0.0, 0.0, 0.0, 0.08357151597738266, 0.11535509675741196, 0.05039333924651146, 0.03816550597548485, 0.006679915357381105, 0.005974434316158295, 0.00030250707641243935], [0.0, 0.0, 0.0, 0.0, 0.0, 0.0, 0.12319736927747726, 0.15865635871887207, 0.0877668485045433, 0.1569942682981491, 0.03079177252948284, 0.0005367030971683562], [0.0, 0.0, 0.0, 0.0, 0.0, 0.0, 0.0, 0.3151542842388153, 0.09996997565031052, 0.18882067501544952, 0.07457556575536728, 0.0013732400257140398], [0.0, 0.0, 0.0, 0.0, 0.0, 0.0, 0.0, 0.0, 0.5284537076950073, 0.4265841841697693, 0.2816070020198822, 0.018747031688690186], [0.0, 0.0, 0.0, 0.0, 0.0, 0.0, 0.0, 0.0, 0.0, 0.040348753333091736, 0.4021241366863251, 0.015539544634521008], [0.0, 0.0, 0.0, 0.0, 0.0, 0.0, 0.0, 0.0, 0.0, 0.0, 0.11377321928739548, 0.002819095039740205], [0.0, 0.0, 0.0, 0.0, 0.0, 0.0, 0.0, 0.0, 0.0, 0.0, 0.0, 0.9599798321723938]], \"labels\": [\"<|endoftext|>\", \"The\", \" quick\", \",\", \" brown\", \" fox\", \" jumps\", \" over\", \" the\", \" lazy\", \" dog\", \".\"]}\n",
       "    )\n",
       "    </script>"
      ]
     },
     "execution_count": 9,
     "metadata": {},
     "output_type": "execute_result"
    }
   ],
   "execution_count": 9
  }
 ],
 "metadata": {
  "kernelspec": {
   "display_name": "Python 3",
   "language": "python",
   "name": "python3"
  },
  "language_info": {
   "codemirror_mode": {
    "name": "ipython",
    "version": 2
   },
   "file_extension": ".py",
   "mimetype": "text/x-python",
   "name": "python",
   "nbconvert_exporter": "python",
   "pygments_lexer": "ipython2",
   "version": "2.7.6"
  }
 },
 "nbformat": 4,
 "nbformat_minor": 5
}
