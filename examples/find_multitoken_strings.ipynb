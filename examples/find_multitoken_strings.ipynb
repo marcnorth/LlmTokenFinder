{
 "cells": [
  {
   "metadata": {},
   "cell_type": "markdown",
   "source": "Find strings that span multiple tokens",
   "id": "98163e837bb0a875"
  },
  {
   "metadata": {
    "ExecuteTime": {
     "end_time": "2025-05-24T09:56:30.682347Z",
     "start_time": "2025-05-24T09:56:27.213923Z"
    }
   },
   "cell_type": "code",
   "source": [
    "import circuitsvis\n",
    "from llm_token_finder import TokenDisplayer, TokenFinder, TokenRange"
   ],
   "id": "327fd431af49475c",
   "outputs": [
    {
     "name": "stderr",
     "output_type": "stream",
     "text": [
      "C:\\Users\\UKGC\\PycharmProjects\\TokenFinder\\.venv\\Lib\\site-packages\\tqdm\\auto.py:21: TqdmWarning: IProgress not found. Please update jupyter and ipywidgets. See https://ipywidgets.readthedocs.io/en/stable/user_install.html\n",
      "  from .autonotebook import tqdm as notebook_tqdm\n"
     ]
    }
   ],
   "execution_count": 1
  },
  {
   "metadata": {
    "ExecuteTime": {
     "end_time": "2025-05-24T09:56:30.988068Z",
     "start_time": "2025-05-24T09:56:30.758137Z"
    }
   },
   "cell_type": "code",
   "source": [
    "from transformers import AutoTokenizer\n",
    "\n",
    "tokenizer = AutoTokenizer.from_pretrained(\"gpt2\")"
   ],
   "id": "c9db9f475bd602c7",
   "outputs": [],
   "execution_count": 2
  },
  {
   "metadata": {
    "ExecuteTime": {
     "end_time": "2025-05-24T09:56:31.005354Z",
     "start_time": "2025-05-24T09:56:31.001275Z"
    }
   },
   "cell_type": "code",
   "source": [
    "text = \"\"\"The quick brown fox jumps over the lazy dog.\n",
    "Also, there are 3.14 apples in the basket.\"\"\"\n",
    "\n",
    "tokens = tokenizer.tokenize(text)\n",
    "\n",
    "print(tokens)"
   ],
   "id": "734d26d6c3b638dc",
   "outputs": [
    {
     "name": "stdout",
     "output_type": "stream",
     "text": [
      "['The', 'Ġquick', 'Ġbrown', 'Ġfox', 'Ġjumps', 'Ġover', 'Ġthe', 'Ġlazy', 'Ġdog', '.', 'Ċ', 'Also', ',', 'Ġthere', 'Ġare', 'Ġ3', '.', '14', 'Ġapples', 'Ġin', 'Ġthe', 'Ġbasket', '.']\n"
     ]
    }
   ],
   "execution_count": 3
  },
  {
   "metadata": {
    "ExecuteTime": {
     "end_time": "2025-05-24T09:56:31.027998Z",
     "start_time": "2025-05-24T09:56:31.025402Z"
    }
   },
   "cell_type": "code",
   "source": [
    "import torch\n",
    "values = torch.rand(len(tokens))"
   ],
   "id": "f6b2b0b22249eb8",
   "outputs": [],
   "execution_count": 4
  },
  {
   "metadata": {},
   "cell_type": "markdown",
   "source": "# Find multi-token string",
   "id": "7193085a54d3983d"
  },
  {
   "metadata": {
    "ExecuteTime": {
     "end_time": "2025-05-24T09:56:31.050583Z",
     "start_time": "2025-05-24T09:56:31.047429Z"
    }
   },
   "cell_type": "code",
   "source": [
    "text = \"\"\"The quick brown fox jumps over the lazy dog.\n",
    "Also, there are 3.14 apples in the basket.\"\"\"\n",
    "\n",
    "token_finder = TokenFinder.create_from_tokenizer(text, tokenizer)\n",
    "\n",
    "single_token = token_finder.find_first(\"fox\", allow_space_prefix=True)\n",
    "multitoken_range = token_finder.find_first_range(\"3.14 apples\", allow_space_prefix=True)"
   ],
   "id": "e37757cd7a7fc339",
   "outputs": [],
   "execution_count": 5
  },
  {
   "metadata": {},
   "cell_type": "code",
   "source": "token_displayer = TokenDisplayer.create_for_tokenizer(tokenizer)",
   "id": "bcea4a1097cfac77",
   "execution_count": null,
   "outputs": []
  },
  {
   "metadata": {
    "ExecuteTime": {
     "end_time": "2025-05-24T09:57:00.059006Z",
     "start_time": "2025-05-24T09:56:59.955564Z"
    }
   },
   "cell_type": "code",
   "source": "token_displayer.html_for_token_with_context(single_token, context_len=2)",
   "id": "65528503562f21e3",
   "outputs": [
    {
     "data": {
      "text/plain": [
       "<circuitsvis.utils.render.RenderedHTML at 0x1a326945f70>"
      ],
      "text/html": [
       "<div id=\"circuits-vis-e4373743-5839\" style=\"margin: 15px 0;\"/>\n",
       "    <script crossorigin type=\"module\">\n",
       "    import { render, ColoredTokens } from \"https://unpkg.com/circuitsvis@1.43.3/dist/cdn/esm.js\";\n",
       "    render(\n",
       "      \"circuits-vis-e4373743-5839\",\n",
       "      ColoredTokens,\n",
       "      {\"tokens\": [\" quick\", \" brown\", \" fox\", \" jumps\", \" over\"], \"values\": [0.0, 0.0, 1.0, 0.0, 0.0]}\n",
       "    )\n",
       "    </script>"
      ]
     },
     "execution_count": 7,
     "metadata": {},
     "output_type": "execute_result"
    }
   ],
   "execution_count": 7
  },
  {
   "metadata": {
    "ExecuteTime": {
     "end_time": "2025-05-24T09:57:10.960531Z",
     "start_time": "2025-05-24T09:57:10.862594Z"
    }
   },
   "cell_type": "code",
   "source": "token_displayer.html_for_scope_with_context(multitoken_range, context_len=2)",
   "id": "43d4764ff12e7844",
   "outputs": [
    {
     "data": {
      "text/plain": [
       "<circuitsvis.utils.render.RenderedHTML at 0x1a326707ec0>"
      ],
      "text/html": [
       "<div id=\"circuits-vis-6ea0d06a-3ae7\" style=\"margin: 15px 0;\"/>\n",
       "    <script crossorigin type=\"module\">\n",
       "    import { render, ColoredTokens } from \"https://unpkg.com/circuitsvis@1.43.3/dist/cdn/esm.js\";\n",
       "    render(\n",
       "      \"circuits-vis-6ea0d06a-3ae7\",\n",
       "      ColoredTokens,\n",
       "      {\"tokens\": [\" there\", \" are\", \" 3\", \".\", \"14\", \" apples\", \" in\", \" the\"], \"values\": [0.0, 0.0, 1.0, 1.0, 1.0, 1.0, 0.0, 0.0]}\n",
       "    )\n",
       "    </script>"
      ]
     },
     "execution_count": 8,
     "metadata": {},
     "output_type": "execute_result"
    }
   ],
   "execution_count": 8
  }
 ],
 "metadata": {
  "kernelspec": {
   "display_name": "Python 3",
   "language": "python",
   "name": "python3"
  },
  "language_info": {
   "codemirror_mode": {
    "name": "ipython",
    "version": 2
   },
   "file_extension": ".py",
   "mimetype": "text/x-python",
   "name": "python",
   "nbconvert_exporter": "python",
   "pygments_lexer": "ipython2",
   "version": "2.7.6"
  }
 },
 "nbformat": 4,
 "nbformat_minor": 5
}
