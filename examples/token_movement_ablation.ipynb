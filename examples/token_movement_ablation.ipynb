{
 "cells": [
  {
   "metadata": {},
   "cell_type": "markdown",
   "source": "## Load model",
   "id": "311d10f985a2a290"
  },
  {
   "metadata": {},
   "cell_type": "code",
   "outputs": [],
   "execution_count": null,
   "source": [
    "from transformer_lens import HookedTransformer\n",
    "from llm_inspect import AblationLlm\n",
    "from llm_inspect import AttentionHead\n",
    "\n",
    "llm = HookedTransformer.from_pretrained(\"gpt2-small\")\n",
    "ablation_llm = AblationLlm(llm)"
   ],
   "id": "1421321fd7a2e424"
  },
  {
   "metadata": {},
   "cell_type": "markdown",
   "source": "### Ablate movement from 'quick' to 'fox'",
   "id": "808ba72f1aec59f8"
  },
  {
   "metadata": {
    "ExecuteTime": {
     "end_time": "2025-05-24T13:39:12.094209Z",
     "start_time": "2025-05-24T13:39:12.091486Z"
    }
   },
   "cell_type": "code",
   "source": [
    "text = \"The quick brown fox jumps over the lazy dog.\"\n",
    "\n",
    "tokens = llm.tokenizer.tokenize(text, add_special_tokens=True)\n",
    "token_ids = llm.tokenizer.encode(text, return_tensors=\"pt\")"
   ],
   "id": "312ff6ff471e5892",
   "outputs": [],
   "execution_count": 23
  },
  {
   "metadata": {},
   "cell_type": "code",
   "outputs": [],
   "execution_count": null,
   "source": [
    "from llm_inspect import TokenFinder\n",
    "\n",
    "token_finder = TokenFinder.create_from_tokenizer(text, llm.tokenizer)\n",
    "\n",
    "quick_token = token_finder.find_first(\"quick\", allow_space_prefix=True)\n",
    "fox_token = token_finder.find_first(\"fox\", allow_space_prefix=True)\n",
    "\n",
    "_, unablated_activation_cache = llm.run_with_cache(token_ids)\n",
    "_, ablated_activation_cache = ablation_llm.forward(text, token_movement_to_ablate=[(quick_token, fox_token)])"
   ],
   "id": "31bb22052faeb5a9"
  },
  {
   "metadata": {},
   "cell_type": "code",
   "outputs": [],
   "execution_count": null,
   "source": [
    "unablated_activation_cache.remove_batch_dim()\n",
    "ablated_activation_cache.remove_batch_dim()\n",
    "\n",
    "from llm_inspect import TokenDisplayer\n",
    "\n",
    "token_displayer = TokenDisplayer.create_for_tokenizer(llm.tokenizer)"
   ],
   "id": "452c15172c33d62a"
  },
  {
   "metadata": {},
   "cell_type": "code",
   "outputs": [],
   "execution_count": null,
   "source": [
    "from llm_inspect import TokenDisplayer\n",
    "\n",
    "token_displayer = TokenDisplayer.create_for_tokenizer(llm.tokenizer)"
   ],
   "id": "542e9282303238d6"
  },
  {
   "metadata": {},
   "cell_type": "code",
   "outputs": [],
   "execution_count": null,
   "source": "attention_head = AttentionHead(0, 0)",
   "id": "e4a25ae6dfe1e05f"
  },
  {
   "metadata": {},
   "cell_type": "markdown",
   "source": "Looking at the attention scores/patterns, we can see that no information is being moved from the 'quick' token to the 'fox' token",
   "id": "ca72cde0faa29748"
  },
  {
   "metadata": {
    "ExecuteTime": {
     "end_time": "2025-05-24T13:42:43.560090Z",
     "start_time": "2025-05-24T13:42:43.457701Z"
    }
   },
   "cell_type": "code",
   "source": [
    "print(f\"Unablated attention scores for head {attention_head}:\")\n",
    "\n",
    "token_displayer.html_for_token_attention(tokens, unablated_activation_cache, attention_head)"
   ],
   "id": "63772650f35e6c6b",
   "outputs": [
    {
     "name": "stdout",
     "output_type": "stream",
     "text": [
      "Unablated attention scores for head 0.0:\n"
     ]
    },
    {
     "data": {
      "text/plain": [
       "<circuitsvis.utils.render.RenderedHTML at 0x2332e51f290>"
      ],
      "text/html": [
       "<div id=\"circuits-vis-d0ae91c6-29b8\" style=\"margin: 15px 0; margin-bottom: -200px\"/>\n",
       "    <script crossorigin type=\"module\">\n",
       "    import { render, ColoredTokensMulti } from \"https://unpkg.com/circuitsvis@1.43.3/dist/cdn/esm.js\";\n",
       "    render(\n",
       "      \"circuits-vis-d0ae91c6-29b8\",\n",
       "      ColoredTokensMulti,\n",
       "      {\"tokens\": [\"The\", \" quick\", \" brown\", \" fox\", \" jumps\", \" over\", \" the\", \" lazy\", \" dog\", \".\"], \"values\": [[1.0, 0.8959755897521973, 0.5708053708076477, 0.37545332312583923, 0.27033331990242004, 0.22396723926067352, 0.2644612491130829, 0.2726932466030121, 0.20594783127307892, 0.21578699350357056], [0.0, 0.1040244773030281, 0.07531476765871048, 0.18633756041526794, 0.06231476739048958, 0.10015023499727249, 0.09446121752262115, 0.0879700779914856, 0.11861491948366165, 0.04640261456370354], [0.0, 0.0, 0.35387980937957764, 0.3604751229286194, 0.04058941453695297, 0.12124727666378021, 0.2533189654350281, 0.06882783025503159, 0.1851373314857483, 0.08890075981616974], [0.0, 0.0, 0.0, 0.07773397117853165, 0.45583730936050415, 0.3560374677181244, 0.17952437698841095, 0.15547755360603333, 0.1361895501613617, 0.1566709280014038], [0.0, 0.0, 0.0, 0.0, 0.17092515528202057, 0.16737112402915955, 0.15706241130828857, 0.12835247814655304, 0.03712965548038483, 0.10414610803127289], [0.0, 0.0, 0.0, 0.0, 0.0, 0.031226666644215584, 0.026025863364338875, 0.06781018525362015, 0.07727617770433426, 0.017042379826307297], [0.0, 0.0, 0.0, 0.0, 0.0, 0.0, 0.025145916268229485, 0.12717439234256744, 0.08006148040294647, 0.028207877650856972], [0.0, 0.0, 0.0, 0.0, 0.0, 0.0, 0.0, 0.09169422090053558, 0.09868676960468292, 0.2894446849822998], [0.0, 0.0, 0.0, 0.0, 0.0, 0.0, 0.0, 0.0, 0.06095629185438156, 0.04518929123878479], [0.0, 0.0, 0.0, 0.0, 0.0, 0.0, 0.0, 0.0, 0.0, 0.008208421990275383]], \"labels\": [\"The\", \" quick\", \" brown\", \" fox\", \" jumps\", \" over\", \" the\", \" lazy\", \" dog\", \".\"]}\n",
       "    )\n",
       "    </script>"
      ]
     },
     "execution_count": 40,
     "metadata": {},
     "output_type": "execute_result"
    }
   ],
   "execution_count": 40
  },
  {
   "metadata": {
    "ExecuteTime": {
     "end_time": "2025-05-24T13:43:05.049828Z",
     "start_time": "2025-05-24T13:43:04.955818Z"
    }
   },
   "cell_type": "code",
   "source": [
    "print(f\"Ablated attention scores for head {attention_head}:\")\n",
    "\n",
    "token_displayer.html_for_token_attention(tokens, ablated_activation_cache, attention_head)"
   ],
   "id": "155710f66208e066",
   "outputs": [
    {
     "name": "stdout",
     "output_type": "stream",
     "text": [
      "Ablated attention scores for head 0.0:\n"
     ]
    },
    {
     "data": {
      "text/plain": [
       "<circuitsvis.utils.render.RenderedHTML at 0x2332e51f350>"
      ],
      "text/html": [
       "<div id=\"circuits-vis-bce214da-2da6\" style=\"margin: 15px 0; margin-bottom: -200px\"/>\n",
       "    <script crossorigin type=\"module\">\n",
       "    import { render, ColoredTokensMulti } from \"https://unpkg.com/circuitsvis@1.43.3/dist/cdn/esm.js\";\n",
       "    render(\n",
       "      \"circuits-vis-bce214da-2da6\",\n",
       "      ColoredTokensMulti,\n",
       "      {\"tokens\": [\"The\", \" quick\", \" brown\", \" fox\", \" jumps\", \" over\", \" the\", \" lazy\", \" dog\", \".\"], \"values\": [[1.0, 0.8959755897521973, 0.5708053708076477, 0.4614362418651581, 0.27033331990242004, 0.22396723926067352, 0.2644612491130829, 0.2726932466030121, 0.20594783127307892, 0.21578699350357056], [0.0, 0.1040244773030281, 0.07531476765871048, 0.0, 0.06231476739048958, 0.10015023499727249, 0.09446121752262115, 0.0879700779914856, 0.11861491948366165, 0.04640261456370354], [0.0, 0.0, 0.35387980937957764, 0.44302788376808167, 0.04058941453695297, 0.12124727666378021, 0.2533189654350281, 0.06882783025503159, 0.1851373314857483, 0.08890075981616974], [0.0, 0.0, 0.0, 0.09553590416908264, 0.45583730936050415, 0.3560374677181244, 0.17952437698841095, 0.15547755360603333, 0.1361895501613617, 0.1566709280014038], [0.0, 0.0, 0.0, 0.0, 0.17092515528202057, 0.16737112402915955, 0.15706241130828857, 0.12835247814655304, 0.03712965548038483, 0.10414610803127289], [0.0, 0.0, 0.0, 0.0, 0.0, 0.031226666644215584, 0.026025863364338875, 0.06781018525362015, 0.07727617770433426, 0.017042379826307297], [0.0, 0.0, 0.0, 0.0, 0.0, 0.0, 0.025145916268229485, 0.12717439234256744, 0.08006148040294647, 0.028207877650856972], [0.0, 0.0, 0.0, 0.0, 0.0, 0.0, 0.0, 0.09169422090053558, 0.09868676960468292, 0.2894446849822998], [0.0, 0.0, 0.0, 0.0, 0.0, 0.0, 0.0, 0.0, 0.06095629185438156, 0.04518929123878479], [0.0, 0.0, 0.0, 0.0, 0.0, 0.0, 0.0, 0.0, 0.0, 0.008208421990275383]], \"labels\": [\"The\", \" quick\", \" brown\", \" fox\", \" jumps\", \" over\", \" the\", \" lazy\", \" dog\", \".\"]}\n",
       "    )\n",
       "    </script>"
      ]
     },
     "execution_count": 42,
     "metadata": {},
     "output_type": "execute_result"
    }
   ],
   "execution_count": 42
  },
  {
   "metadata": {},
   "cell_type": "markdown",
   "source": "## Attention patterns",
   "id": "2b3336de137059a4"
  },
  {
   "metadata": {
    "ExecuteTime": {
     "end_time": "2025-05-24T13:44:13.398232Z",
     "start_time": "2025-05-24T13:44:13.234969Z"
    }
   },
   "cell_type": "code",
   "source": "token_displayer.html_for_attention_pattern(tokens, unablated_activation_cache, attention_head)",
   "id": "c5cd4e0a0169cb1f",
   "outputs": [
    {
     "data": {
      "text/plain": [
       "<circuitsvis.utils.render.RenderedHTML at 0x2336eadbfb0>"
      ],
      "text/html": [
       "<div id=\"circuits-vis-c7c6c449-0031\" style=\"margin: 15px 0;\"/>\n",
       "    <script crossorigin type=\"module\">\n",
       "    import { render, AttentionPattern } from \"https://unpkg.com/circuitsvis@1.43.3/dist/cdn/esm.js\";\n",
       "    render(\n",
       "      \"circuits-vis-c7c6c449-0031\",\n",
       "      AttentionPattern,\n",
       "      {\"tokens\": [\"The\", \"\\u0120quick\", \"\\u0120brown\", \"\\u0120fox\", \"\\u0120jumps\", \"\\u0120over\", \"\\u0120the\", \"\\u0120lazy\", \"\\u0120dog\", \".\"], \"attention\": [[1.0, 0.0, 0.0, 0.0, 0.0, 0.0, 0.0, 0.0, 0.0, 0.0], [0.8959755897521973, 0.1040244773030281, 0.0, 0.0, 0.0, 0.0, 0.0, 0.0, 0.0, 0.0], [0.5708053708076477, 0.07531476765871048, 0.35387980937957764, 0.0, 0.0, 0.0, 0.0, 0.0, 0.0, 0.0], [0.37545332312583923, 0.18633756041526794, 0.3604751229286194, 0.07773397117853165, 0.0, 0.0, 0.0, 0.0, 0.0, 0.0], [0.27033331990242004, 0.06231476739048958, 0.04058941453695297, 0.45583730936050415, 0.17092515528202057, 0.0, 0.0, 0.0, 0.0, 0.0], [0.22396723926067352, 0.10015023499727249, 0.12124727666378021, 0.3560374677181244, 0.16737112402915955, 0.031226666644215584, 0.0, 0.0, 0.0, 0.0], [0.2644612491130829, 0.09446121752262115, 0.2533189654350281, 0.17952437698841095, 0.15706241130828857, 0.026025863364338875, 0.025145916268229485, 0.0, 0.0, 0.0], [0.2726932466030121, 0.0879700779914856, 0.06882783025503159, 0.15547755360603333, 0.12835247814655304, 0.06781018525362015, 0.12717439234256744, 0.09169422090053558, 0.0, 0.0], [0.20594783127307892, 0.11861491948366165, 0.1851373314857483, 0.1361895501613617, 0.03712965548038483, 0.07727617770433426, 0.08006148040294647, 0.09868676960468292, 0.06095629185438156, 0.0], [0.21578699350357056, 0.04640261456370354, 0.08890075981616974, 0.1566709280014038, 0.10414610803127289, 0.017042379826307297, 0.028207877650856972, 0.2894446849822998, 0.04518929123878479, 0.008208421990275383]]}\n",
       "    )\n",
       "    </script>"
      ]
     },
     "execution_count": 43,
     "metadata": {},
     "output_type": "execute_result"
    }
   ],
   "execution_count": 43
  },
  {
   "metadata": {
    "ExecuteTime": {
     "end_time": "2025-05-24T13:44:26.223598Z",
     "start_time": "2025-05-24T13:44:26.110108Z"
    }
   },
   "cell_type": "code",
   "source": "token_displayer.html_for_attention_pattern(tokens, ablated_activation_cache, attention_head)",
   "id": "20e04777738bbbac",
   "outputs": [
    {
     "data": {
      "text/plain": [
       "<circuitsvis.utils.render.RenderedHTML at 0x2336f36b770>"
      ],
      "text/html": [
       "<div id=\"circuits-vis-24434d81-8b59\" style=\"margin: 15px 0;\"/>\n",
       "    <script crossorigin type=\"module\">\n",
       "    import { render, AttentionPattern } from \"https://unpkg.com/circuitsvis@1.43.3/dist/cdn/esm.js\";\n",
       "    render(\n",
       "      \"circuits-vis-24434d81-8b59\",\n",
       "      AttentionPattern,\n",
       "      {\"tokens\": [\"The\", \"\\u0120quick\", \"\\u0120brown\", \"\\u0120fox\", \"\\u0120jumps\", \"\\u0120over\", \"\\u0120the\", \"\\u0120lazy\", \"\\u0120dog\", \".\"], \"attention\": [[1.0, 0.0, 0.0, 0.0, 0.0, 0.0, 0.0, 0.0, 0.0, 0.0], [0.8959755897521973, 0.1040244773030281, 0.0, 0.0, 0.0, 0.0, 0.0, 0.0, 0.0, 0.0], [0.5708053708076477, 0.07531476765871048, 0.35387980937957764, 0.0, 0.0, 0.0, 0.0, 0.0, 0.0, 0.0], [0.4614362418651581, 0.0, 0.44302788376808167, 0.09553590416908264, 0.0, 0.0, 0.0, 0.0, 0.0, 0.0], [0.27033331990242004, 0.06231476739048958, 0.04058941453695297, 0.45583730936050415, 0.17092515528202057, 0.0, 0.0, 0.0, 0.0, 0.0], [0.22396723926067352, 0.10015023499727249, 0.12124727666378021, 0.3560374677181244, 0.16737112402915955, 0.031226666644215584, 0.0, 0.0, 0.0, 0.0], [0.2644612491130829, 0.09446121752262115, 0.2533189654350281, 0.17952437698841095, 0.15706241130828857, 0.026025863364338875, 0.025145916268229485, 0.0, 0.0, 0.0], [0.2726932466030121, 0.0879700779914856, 0.06882783025503159, 0.15547755360603333, 0.12835247814655304, 0.06781018525362015, 0.12717439234256744, 0.09169422090053558, 0.0, 0.0], [0.20594783127307892, 0.11861491948366165, 0.1851373314857483, 0.1361895501613617, 0.03712965548038483, 0.07727617770433426, 0.08006148040294647, 0.09868676960468292, 0.06095629185438156, 0.0], [0.21578699350357056, 0.04640261456370354, 0.08890075981616974, 0.1566709280014038, 0.10414610803127289, 0.017042379826307297, 0.028207877650856972, 0.2894446849822998, 0.04518929123878479, 0.008208421990275383]]}\n",
       "    )\n",
       "    </script>"
      ]
     },
     "execution_count": 44,
     "metadata": {},
     "output_type": "execute_result"
    }
   ],
   "execution_count": 44
  }
 ],
 "metadata": {
  "kernelspec": {
   "display_name": "Python 3",
   "language": "python",
   "name": "python3"
  },
  "language_info": {
   "codemirror_mode": {
    "name": "ipython",
    "version": 2
   },
   "file_extension": ".py",
   "mimetype": "text/x-python",
   "name": "python",
   "nbconvert_exporter": "python",
   "pygments_lexer": "ipython2",
   "version": "2.7.6"
  }
 },
 "nbformat": 4,
 "nbformat_minor": 5
}
